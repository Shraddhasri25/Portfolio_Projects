{
 "cells": [
  {
   "cell_type": "markdown",
   "id": "87a94c89",
   "metadata": {},
   "source": [
    "# USED CAR PRICE PREDICTION REGRESSION ANALYSIS"
   ]
  },
  {
   "cell_type": "markdown",
   "id": "cdb47ade",
   "metadata": {},
   "source": [
    "**Data Description:** Driverless cars are getting closer to reality and at a faster pace than ever. But it is still a bit far fetched dream to have one in your garage. For the time being, there are still a lot of combustion and hybrid cars that roar around the road, for some it chills. Though the overall data on sales of automobiles shows a huge drop in sales in the last couple of years, cars are still a big attraction for many. Cars are more than just a utility for many. They are often the pride and status of the family. We all have different tastes when it comes to owning a car or at least when thinking of owning one. Well here of course as the name suggests we are not concentrating on a new car, rather our interest is in knowing the prices of used cars across the country whether it is a royal l luxury sedan or a cheap budget utility vehicle.Size of training set: 6,019 records Size of test set: 1,234 records. \n",
    "\n",
    "**Data Definition:** \n",
    "\n",
    "Name: The brand and model of the car.\n",
    "\n",
    "Location: The location in which the car is being sold or is available for purchase. \n",
    "\n",
    "Year: The year or edition of the model. \n",
    "\n",
    "Kilometers_Driven: The total kilometres driven in the car by the previous owner(s) in KM. \n",
    "\n",
    "Fuel_Type: The type of fuel used by the car. \n",
    "\n",
    "Transmission: The type of transmission used by the car. \n",
    "\n",
    "Owner_Type: Whether the ownership is First hand, Second hand or other. \n",
    "\n",
    "Mileage: The standard mileage offered by the car company in kmpl or km/kg \n",
    "\n",
    "Engine: The displacement volume of the engine in cc. \n",
    "\n",
    "Power: The maximum power of the engine in bhp. \n",
    "\n",
    "Seats: The number of seats in the car. \n",
    "\n",
    "New_Price: The price of a new car of the same model. \n",
    "\n",
    "Price: The price of the used car in INR Lakhs."
   ]
  },
  {
   "cell_type": "markdown",
   "id": "56846310",
   "metadata": {},
   "source": [
    "### Flow of the Project:\n",
    "1. Data Preparation & Cleaning done by \n",
    "        * Removing units\n",
    "        * Changing datatype\n",
    "        * Converting different units to common units\n",
    "2. Univariate Analysis of important columns by creating function to plot histograms and box-plots.\n",
    "3. Bivariate Analysis using Correlation Heatmap matrix and Pairplots.\n",
    "4. Data Scaling (Min-Max Scaler) and Encoding (One-Hot).\n",
    "5. Applied KNN, Linear Regression and Decision Tree.\n",
    "6. Improved Linear Regression using Sequential Feature Selection (SFS). \n"
   ]
  },
  {
   "cell_type": "code",
   "execution_count": 70,
   "id": "48fc344d",
   "metadata": {},
   "outputs": [],
   "source": [
    "#for dataframe manipulations and calculations\n",
    "import pandas as pd\n",
    "import numpy as np\n",
    "#for data visualizations\n",
    "import seaborn as sns\n",
    "import matplotlib.pyplot as plt\n",
    "#for knn, linear regression and decision tree algorithms\n",
    "from sklearn.neighbors import KNeighborsRegressor\n",
    "from sklearn.metrics import mean_squared_error \n",
    "from math import sqrt\n",
    "from sklearn.preprocessing import OneHotEncoder, MinMaxScaler\n",
    "from sklearn.model_selection import train_test_split\n",
    "from sklearn.linear_model import LinearRegression\n",
    "from sklearn.tree import DecisionTreeRegressor\n",
    "from sklearn.tree import plot_tree\n",
    "import re\n",
    "\n",
    "#for ignoring warnings\n",
    "import warnings\n",
    "warnings.filterwarnings('ignore')\n",
    "\n",
    "#to get consistent results.\n",
    "import random\n",
    "random.seed(0)"
   ]
  },
  {
   "cell_type": "markdown",
   "id": "bf123dd0",
   "metadata": {},
   "source": [
    "## 1. Data Preparation"
   ]
  },
  {
   "cell_type": "code",
   "execution_count": 2,
   "id": "dbf2319d",
   "metadata": {
    "scrolled": false
   },
   "outputs": [
    {
     "data": {
      "text/html": [
       "<div>\n",
       "<style scoped>\n",
       "    .dataframe tbody tr th:only-of-type {\n",
       "        vertical-align: middle;\n",
       "    }\n",
       "\n",
       "    .dataframe tbody tr th {\n",
       "        vertical-align: top;\n",
       "    }\n",
       "\n",
       "    .dataframe thead th {\n",
       "        text-align: right;\n",
       "    }\n",
       "</style>\n",
       "<table border=\"1\" class=\"dataframe\">\n",
       "  <thead>\n",
       "    <tr style=\"text-align: right;\">\n",
       "      <th></th>\n",
       "      <th>Name</th>\n",
       "      <th>Location</th>\n",
       "      <th>Year</th>\n",
       "      <th>Kilometers_Driven</th>\n",
       "      <th>Fuel_Type</th>\n",
       "      <th>Transmission</th>\n",
       "      <th>Owner_Type</th>\n",
       "      <th>Mileage</th>\n",
       "      <th>Engine</th>\n",
       "      <th>Power</th>\n",
       "      <th>Seats</th>\n",
       "      <th>New_Price</th>\n",
       "      <th>Price</th>\n",
       "    </tr>\n",
       "  </thead>\n",
       "  <tbody>\n",
       "    <tr>\n",
       "      <th>0</th>\n",
       "      <td>Maruti Wagon R LXI CNG</td>\n",
       "      <td>Mumbai</td>\n",
       "      <td>2010</td>\n",
       "      <td>72000</td>\n",
       "      <td>CNG</td>\n",
       "      <td>Manual</td>\n",
       "      <td>First</td>\n",
       "      <td>26.6 km/kg</td>\n",
       "      <td>998 CC</td>\n",
       "      <td>58.16 bhp</td>\n",
       "      <td>5.0</td>\n",
       "      <td>NaN</td>\n",
       "      <td>1.75</td>\n",
       "    </tr>\n",
       "    <tr>\n",
       "      <th>1</th>\n",
       "      <td>Hyundai Creta 1.6 CRDi SX Option</td>\n",
       "      <td>Pune</td>\n",
       "      <td>2015</td>\n",
       "      <td>41000</td>\n",
       "      <td>Diesel</td>\n",
       "      <td>Manual</td>\n",
       "      <td>First</td>\n",
       "      <td>19.67 kmpl</td>\n",
       "      <td>1582 CC</td>\n",
       "      <td>126.2 bhp</td>\n",
       "      <td>5.0</td>\n",
       "      <td>NaN</td>\n",
       "      <td>12.50</td>\n",
       "    </tr>\n",
       "    <tr>\n",
       "      <th>2</th>\n",
       "      <td>Honda Jazz V</td>\n",
       "      <td>Chennai</td>\n",
       "      <td>2011</td>\n",
       "      <td>46000</td>\n",
       "      <td>Petrol</td>\n",
       "      <td>Manual</td>\n",
       "      <td>First</td>\n",
       "      <td>18.2 kmpl</td>\n",
       "      <td>1199 CC</td>\n",
       "      <td>88.7 bhp</td>\n",
       "      <td>5.0</td>\n",
       "      <td>8.61 Lakh</td>\n",
       "      <td>4.50</td>\n",
       "    </tr>\n",
       "    <tr>\n",
       "      <th>3</th>\n",
       "      <td>Maruti Ertiga VDI</td>\n",
       "      <td>Chennai</td>\n",
       "      <td>2012</td>\n",
       "      <td>87000</td>\n",
       "      <td>Diesel</td>\n",
       "      <td>Manual</td>\n",
       "      <td>First</td>\n",
       "      <td>20.77 kmpl</td>\n",
       "      <td>1248 CC</td>\n",
       "      <td>88.76 bhp</td>\n",
       "      <td>7.0</td>\n",
       "      <td>NaN</td>\n",
       "      <td>6.00</td>\n",
       "    </tr>\n",
       "    <tr>\n",
       "      <th>4</th>\n",
       "      <td>Audi A4 New 2.0 TDI Multitronic</td>\n",
       "      <td>Coimbatore</td>\n",
       "      <td>2013</td>\n",
       "      <td>40670</td>\n",
       "      <td>Diesel</td>\n",
       "      <td>Automatic</td>\n",
       "      <td>Second</td>\n",
       "      <td>15.2 kmpl</td>\n",
       "      <td>1968 CC</td>\n",
       "      <td>140.8 bhp</td>\n",
       "      <td>5.0</td>\n",
       "      <td>NaN</td>\n",
       "      <td>17.74</td>\n",
       "    </tr>\n",
       "  </tbody>\n",
       "</table>\n",
       "</div>"
      ],
      "text/plain": [
       "                               Name    Location  Year  Kilometers_Driven  \\\n",
       "0            Maruti Wagon R LXI CNG      Mumbai  2010              72000   \n",
       "1  Hyundai Creta 1.6 CRDi SX Option        Pune  2015              41000   \n",
       "2                      Honda Jazz V     Chennai  2011              46000   \n",
       "3                 Maruti Ertiga VDI     Chennai  2012              87000   \n",
       "4   Audi A4 New 2.0 TDI Multitronic  Coimbatore  2013              40670   \n",
       "\n",
       "  Fuel_Type Transmission Owner_Type     Mileage   Engine      Power  Seats  \\\n",
       "0       CNG       Manual      First  26.6 km/kg   998 CC  58.16 bhp    5.0   \n",
       "1    Diesel       Manual      First  19.67 kmpl  1582 CC  126.2 bhp    5.0   \n",
       "2    Petrol       Manual      First   18.2 kmpl  1199 CC   88.7 bhp    5.0   \n",
       "3    Diesel       Manual      First  20.77 kmpl  1248 CC  88.76 bhp    7.0   \n",
       "4    Diesel    Automatic     Second   15.2 kmpl  1968 CC  140.8 bhp    5.0   \n",
       "\n",
       "   New_Price  Price  \n",
       "0        NaN   1.75  \n",
       "1        NaN  12.50  \n",
       "2  8.61 Lakh   4.50  \n",
       "3        NaN   6.00  \n",
       "4        NaN  17.74  "
      ]
     },
     "execution_count": 2,
     "metadata": {},
     "output_type": "execute_result"
    }
   ],
   "source": [
    "#loading and previewing the data\n",
    "df=pd.read_csv('used_cars_train.csv')\n",
    "df.head()"
   ]
  },
  {
   "cell_type": "code",
   "execution_count": 3,
   "id": "b6981351",
   "metadata": {},
   "outputs": [
    {
     "data": {
      "text/plain": [
       "(6019, 13)"
      ]
     },
     "execution_count": 3,
     "metadata": {},
     "output_type": "execute_result"
    }
   ],
   "source": [
    "#checking the shape\n",
    "df.shape"
   ]
  },
  {
   "cell_type": "code",
   "execution_count": 4,
   "id": "27cc7e1e",
   "metadata": {},
   "outputs": [
    {
     "data": {
      "text/plain": [
       "Name                    0\n",
       "Location                0\n",
       "Year                    0\n",
       "Kilometers_Driven       0\n",
       "Fuel_Type               0\n",
       "Transmission            0\n",
       "Owner_Type              0\n",
       "Mileage                 2\n",
       "Engine                 36\n",
       "Power                  36\n",
       "Seats                  42\n",
       "New_Price            5195\n",
       "Price                   0\n",
       "dtype: int64"
      ]
     },
     "execution_count": 4,
     "metadata": {},
     "output_type": "execute_result"
    }
   ],
   "source": [
    "#counting the number of null values\n",
    "df.isna().sum()"
   ]
  },
  {
   "cell_type": "code",
   "execution_count": 5,
   "id": "1acb7a61",
   "metadata": {},
   "outputs": [
    {
     "data": {
      "text/plain": [
       "0.8631001827546104"
      ]
     },
     "execution_count": 5,
     "metadata": {},
     "output_type": "execute_result"
    }
   ],
   "source": [
    "df.New_Price.isna().sum()/df.shape[0]"
   ]
  },
  {
   "cell_type": "code",
   "execution_count": 6,
   "id": "c42ae266",
   "metadata": {},
   "outputs": [],
   "source": [
    "# columns which have null values can be imputed except 'New_Price' column which has 86.31% null values,so we drop it"
   ]
  },
  {
   "cell_type": "code",
   "execution_count": 7,
   "id": "119ec14b",
   "metadata": {},
   "outputs": [
    {
     "name": "stdout",
     "output_type": "stream",
     "text": [
      "<class 'pandas.core.frame.DataFrame'>\n",
      "RangeIndex: 6019 entries, 0 to 6018\n",
      "Data columns (total 13 columns):\n",
      " #   Column             Non-Null Count  Dtype  \n",
      "---  ------             --------------  -----  \n",
      " 0   Name               6019 non-null   object \n",
      " 1   Location           6019 non-null   object \n",
      " 2   Year               6019 non-null   int64  \n",
      " 3   Kilometers_Driven  6019 non-null   int64  \n",
      " 4   Fuel_Type          6019 non-null   object \n",
      " 5   Transmission       6019 non-null   object \n",
      " 6   Owner_Type         6019 non-null   object \n",
      " 7   Mileage            6017 non-null   object \n",
      " 8   Engine             5983 non-null   object \n",
      " 9   Power              5983 non-null   object \n",
      " 10  Seats              5977 non-null   float64\n",
      " 11  New_Price          824 non-null    object \n",
      " 12  Price              6019 non-null   float64\n",
      "dtypes: float64(2), int64(2), object(9)\n",
      "memory usage: 611.4+ KB\n"
     ]
    }
   ],
   "source": [
    "#checking necessary information and datatypes\n",
    "df.info()"
   ]
  },
  {
   "cell_type": "code",
   "execution_count": 8,
   "id": "1d700c89",
   "metadata": {},
   "outputs": [],
   "source": [
    "# using regular expression to remove units and unnecessary suffixes\n",
    "# removing units\n",
    "data=df.Mileage\n",
    "# Define a regex pattern to match numeric values with optional decimal points\n",
    "pattern = r'(\\d+(\\.\\d+)?)'\n",
    "\n",
    "# Function to remove units from a string\n",
    "def remove_units(value):\n",
    "    if isinstance(value, float):\n",
    "        value = str(value)\n",
    "    matches = re.findall(pattern, value)\n",
    "    if matches:\n",
    "        return matches[0][0]\n",
    "    return value\n",
    "\n",
    "# Apply the function to the required columns\n",
    "df['Mileage'] = df['Mileage'].apply(remove_units)\n",
    "df['Engine'] = df['Engine'].apply(remove_units)\n",
    "df['Power'] = df['Power'].apply(remove_units)\n"
   ]
  },
  {
   "cell_type": "code",
   "execution_count": 9,
   "id": "34baceeb",
   "metadata": {},
   "outputs": [],
   "source": [
    "#replacing null values in new-price columns\n",
    "df['Power'] = df['Power'].replace('null bhp', np.nan)"
   ]
  },
  {
   "cell_type": "code",
   "execution_count": 10,
   "id": "1c3e99b0",
   "metadata": {},
   "outputs": [
    {
     "data": {
      "text/html": [
       "<div>\n",
       "<style scoped>\n",
       "    .dataframe tbody tr th:only-of-type {\n",
       "        vertical-align: middle;\n",
       "    }\n",
       "\n",
       "    .dataframe tbody tr th {\n",
       "        vertical-align: top;\n",
       "    }\n",
       "\n",
       "    .dataframe thead th {\n",
       "        text-align: right;\n",
       "    }\n",
       "</style>\n",
       "<table border=\"1\" class=\"dataframe\">\n",
       "  <thead>\n",
       "    <tr style=\"text-align: right;\">\n",
       "      <th></th>\n",
       "      <th>Name</th>\n",
       "      <th>Location</th>\n",
       "      <th>Year</th>\n",
       "      <th>Kilometers_Driven</th>\n",
       "      <th>Fuel_Type</th>\n",
       "      <th>Transmission</th>\n",
       "      <th>Owner_Type</th>\n",
       "      <th>Mileage</th>\n",
       "      <th>Engine</th>\n",
       "      <th>Power</th>\n",
       "      <th>Seats</th>\n",
       "      <th>New_Price</th>\n",
       "      <th>Price</th>\n",
       "    </tr>\n",
       "  </thead>\n",
       "  <tbody>\n",
       "    <tr>\n",
       "      <th>699</th>\n",
       "      <td>Chevrolet Aveo 1.4</td>\n",
       "      <td>Pune</td>\n",
       "      <td>2006</td>\n",
       "      <td>78000</td>\n",
       "      <td>Petrol</td>\n",
       "      <td>Manual</td>\n",
       "      <td>Third</td>\n",
       "      <td>14.49</td>\n",
       "      <td>1399</td>\n",
       "      <td>92.7</td>\n",
       "      <td>5.0</td>\n",
       "      <td>NaN</td>\n",
       "      <td>1.20</td>\n",
       "    </tr>\n",
       "    <tr>\n",
       "      <th>1319</th>\n",
       "      <td>Fiat Petra 1.2 EL</td>\n",
       "      <td>Pune</td>\n",
       "      <td>2005</td>\n",
       "      <td>120000</td>\n",
       "      <td>Petrol</td>\n",
       "      <td>Manual</td>\n",
       "      <td>Second</td>\n",
       "      <td>15.5</td>\n",
       "      <td>1242</td>\n",
       "      <td>NaN</td>\n",
       "      <td>5.0</td>\n",
       "      <td>NaN</td>\n",
       "      <td>0.85</td>\n",
       "    </tr>\n",
       "    <tr>\n",
       "      <th>5396</th>\n",
       "      <td>Maruti Ertiga VDI</td>\n",
       "      <td>Kochi</td>\n",
       "      <td>2018</td>\n",
       "      <td>51236</td>\n",
       "      <td>Diesel</td>\n",
       "      <td>Manual</td>\n",
       "      <td>First</td>\n",
       "      <td>25.47</td>\n",
       "      <td>1248</td>\n",
       "      <td>88.50</td>\n",
       "      <td>7.0</td>\n",
       "      <td>10.83 Lakh</td>\n",
       "      <td>8.49</td>\n",
       "    </tr>\n",
       "    <tr>\n",
       "      <th>3137</th>\n",
       "      <td>Mercedes-Benz E-Class E250 CDI Launch Edition</td>\n",
       "      <td>Chennai</td>\n",
       "      <td>2014</td>\n",
       "      <td>81000</td>\n",
       "      <td>Diesel</td>\n",
       "      <td>Automatic</td>\n",
       "      <td>First</td>\n",
       "      <td>13.0</td>\n",
       "      <td>2143</td>\n",
       "      <td>204</td>\n",
       "      <td>5.0</td>\n",
       "      <td>NaN</td>\n",
       "      <td>22.75</td>\n",
       "    </tr>\n",
       "    <tr>\n",
       "      <th>302</th>\n",
       "      <td>Maruti Alto K10 LXI</td>\n",
       "      <td>Hyderabad</td>\n",
       "      <td>2011</td>\n",
       "      <td>70000</td>\n",
       "      <td>Petrol</td>\n",
       "      <td>Manual</td>\n",
       "      <td>First</td>\n",
       "      <td>20.92</td>\n",
       "      <td>998</td>\n",
       "      <td>67.1</td>\n",
       "      <td>5.0</td>\n",
       "      <td>NaN</td>\n",
       "      <td>2.10</td>\n",
       "    </tr>\n",
       "  </tbody>\n",
       "</table>\n",
       "</div>"
      ],
      "text/plain": [
       "                                               Name   Location  Year  \\\n",
       "699                              Chevrolet Aveo 1.4       Pune  2006   \n",
       "1319                              Fiat Petra 1.2 EL       Pune  2005   \n",
       "5396                              Maruti Ertiga VDI      Kochi  2018   \n",
       "3137  Mercedes-Benz E-Class E250 CDI Launch Edition    Chennai  2014   \n",
       "302                             Maruti Alto K10 LXI  Hyderabad  2011   \n",
       "\n",
       "      Kilometers_Driven Fuel_Type Transmission Owner_Type Mileage Engine  \\\n",
       "699               78000    Petrol       Manual      Third   14.49   1399   \n",
       "1319             120000    Petrol       Manual     Second    15.5   1242   \n",
       "5396              51236    Diesel       Manual      First   25.47   1248   \n",
       "3137              81000    Diesel    Automatic      First    13.0   2143   \n",
       "302               70000    Petrol       Manual      First   20.92    998   \n",
       "\n",
       "      Power  Seats   New_Price  Price  \n",
       "699    92.7    5.0         NaN   1.20  \n",
       "1319    NaN    5.0         NaN   0.85  \n",
       "5396  88.50    7.0  10.83 Lakh   8.49  \n",
       "3137    204    5.0         NaN  22.75  \n",
       "302    67.1    5.0         NaN   2.10  "
      ]
     },
     "execution_count": 10,
     "metadata": {},
     "output_type": "execute_result"
    }
   ],
   "source": [
    "#suffling the data to see the variety of records\n",
    "df.sample(5)"
   ]
  },
  {
   "cell_type": "code",
   "execution_count": 11,
   "id": "a5f9edb4",
   "metadata": {},
   "outputs": [
    {
     "data": {
      "text/plain": [
       "Diesel      3205\n",
       "Petrol      2746\n",
       "CNG           56\n",
       "LPG           10\n",
       "Electric       2\n",
       "Name: Fuel_Type, dtype: int64"
      ]
     },
     "execution_count": 11,
     "metadata": {},
     "output_type": "execute_result"
    }
   ],
   "source": [
    "df.Fuel_Type.value_counts()"
   ]
  },
  {
   "cell_type": "code",
   "execution_count": 12,
   "id": "f57e5fe3",
   "metadata": {
    "scrolled": true
   },
   "outputs": [
    {
     "data": {
      "text/plain": [
       "Name                  object\n",
       "Location              object\n",
       "Year                   int64\n",
       "Kilometers_Driven      int64\n",
       "Fuel_Type             object\n",
       "Transmission          object\n",
       "Owner_Type            object\n",
       "Mileage               object\n",
       "Engine                object\n",
       "Power                 object\n",
       "Seats                float64\n",
       "New_Price             object\n",
       "Price                float64\n",
       "dtype: object"
      ]
     },
     "execution_count": 12,
     "metadata": {},
     "output_type": "execute_result"
    }
   ],
   "source": [
    "df.dtypes"
   ]
  },
  {
   "cell_type": "code",
   "execution_count": 13,
   "id": "f672d99f",
   "metadata": {},
   "outputs": [],
   "source": [
    "#converting to correct dtype\n",
    "df['Mileage'] = df['Mileage'].astype('float64')\n",
    "df['Engine'] = df['Engine'].astype('float64')\n",
    "df['Power'] = df['Power'].astype('float64')"
   ]
  },
  {
   "cell_type": "code",
   "execution_count": 14,
   "id": "0bb8aab0",
   "metadata": {},
   "outputs": [
    {
     "data": {
      "image/png": "[encoded data removed]",
      "text/plain": [
       "<Figure size 2000x1500 with 9 Axes>"
      ]
     },
     "metadata": {},
     "output_type": "display_data"
    }
   ],
   "source": [
    "# histogram is plotted to see distribution of variables\n",
    "df1=df.select_dtypes(include='number')\n",
    "df1.hist(bins=50,figsize=(20,15))\n",
    "plt.title('Distribution of Numerical columns');"
   ]
  },
  {
   "cell_type": "code",
   "execution_count": 15,
   "id": "33241f07",
   "metadata": {},
   "outputs": [
    {
     "data": {
      "text/plain": [
       "(6017, 13)"
      ]
     },
     "execution_count": 15,
     "metadata": {},
     "output_type": "execute_result"
    }
   ],
   "source": [
    "df = df.drop(df[df['Fuel_Type'] == 'Electric'].index)\n",
    "df.shape"
   ]
  },
  {
   "cell_type": "code",
   "execution_count": 16,
   "id": "5f34a369",
   "metadata": {},
   "outputs": [
    {
     "data": {
      "text/html": [
       "<div>\n",
       "<style scoped>\n",
       "    .dataframe tbody tr th:only-of-type {\n",
       "        vertical-align: middle;\n",
       "    }\n",
       "\n",
       "    .dataframe tbody tr th {\n",
       "        vertical-align: top;\n",
       "    }\n",
       "\n",
       "    .dataframe thead th {\n",
       "        text-align: right;\n",
       "    }\n",
       "</style>\n",
       "<table border=\"1\" class=\"dataframe\">\n",
       "  <thead>\n",
       "    <tr style=\"text-align: right;\">\n",
       "      <th></th>\n",
       "      <th>Name</th>\n",
       "      <th>Location</th>\n",
       "      <th>Year</th>\n",
       "      <th>Kilometers_Driven</th>\n",
       "      <th>Fuel_Type</th>\n",
       "      <th>Transmission</th>\n",
       "      <th>Owner_Type</th>\n",
       "      <th>Mileage</th>\n",
       "      <th>Engine</th>\n",
       "      <th>Power</th>\n",
       "      <th>Seats</th>\n",
       "      <th>New_Price</th>\n",
       "      <th>Price</th>\n",
       "    </tr>\n",
       "  </thead>\n",
       "  <tbody>\n",
       "    <tr>\n",
       "      <th>0</th>\n",
       "      <td>Maruti Wagon R LXI CNG</td>\n",
       "      <td>Mumbai</td>\n",
       "      <td>2010</td>\n",
       "      <td>72000</td>\n",
       "      <td>CNG</td>\n",
       "      <td>Manual</td>\n",
       "      <td>First</td>\n",
       "      <td>14.8162</td>\n",
       "      <td>998.0</td>\n",
       "      <td>58.16</td>\n",
       "      <td>5.0</td>\n",
       "      <td>NaN</td>\n",
       "      <td>1.75</td>\n",
       "    </tr>\n",
       "    <tr>\n",
       "      <th>1</th>\n",
       "      <td>Hyundai Creta 1.6 CRDi SX Option</td>\n",
       "      <td>Pune</td>\n",
       "      <td>2015</td>\n",
       "      <td>41000</td>\n",
       "      <td>Diesel</td>\n",
       "      <td>Manual</td>\n",
       "      <td>First</td>\n",
       "      <td>19.6700</td>\n",
       "      <td>1582.0</td>\n",
       "      <td>126.20</td>\n",
       "      <td>5.0</td>\n",
       "      <td>NaN</td>\n",
       "      <td>12.50</td>\n",
       "    </tr>\n",
       "    <tr>\n",
       "      <th>2</th>\n",
       "      <td>Honda Jazz V</td>\n",
       "      <td>Chennai</td>\n",
       "      <td>2011</td>\n",
       "      <td>46000</td>\n",
       "      <td>Petrol</td>\n",
       "      <td>Manual</td>\n",
       "      <td>First</td>\n",
       "      <td>18.2000</td>\n",
       "      <td>1199.0</td>\n",
       "      <td>88.70</td>\n",
       "      <td>5.0</td>\n",
       "      <td>8.61 Lakh</td>\n",
       "      <td>4.50</td>\n",
       "    </tr>\n",
       "    <tr>\n",
       "      <th>3</th>\n",
       "      <td>Maruti Ertiga VDI</td>\n",
       "      <td>Chennai</td>\n",
       "      <td>2012</td>\n",
       "      <td>87000</td>\n",
       "      <td>Diesel</td>\n",
       "      <td>Manual</td>\n",
       "      <td>First</td>\n",
       "      <td>20.7700</td>\n",
       "      <td>1248.0</td>\n",
       "      <td>88.76</td>\n",
       "      <td>7.0</td>\n",
       "      <td>NaN</td>\n",
       "      <td>6.00</td>\n",
       "    </tr>\n",
       "    <tr>\n",
       "      <th>4</th>\n",
       "      <td>Audi A4 New 2.0 TDI Multitronic</td>\n",
       "      <td>Coimbatore</td>\n",
       "      <td>2013</td>\n",
       "      <td>40670</td>\n",
       "      <td>Diesel</td>\n",
       "      <td>Automatic</td>\n",
       "      <td>Second</td>\n",
       "      <td>15.2000</td>\n",
       "      <td>1968.0</td>\n",
       "      <td>140.80</td>\n",
       "      <td>5.0</td>\n",
       "      <td>NaN</td>\n",
       "      <td>17.74</td>\n",
       "    </tr>\n",
       "  </tbody>\n",
       "</table>\n",
       "</div>"
      ],
      "text/plain": [
       "                               Name    Location  Year  Kilometers_Driven  \\\n",
       "0            Maruti Wagon R LXI CNG      Mumbai  2010              72000   \n",
       "1  Hyundai Creta 1.6 CRDi SX Option        Pune  2015              41000   \n",
       "2                      Honda Jazz V     Chennai  2011              46000   \n",
       "3                 Maruti Ertiga VDI     Chennai  2012              87000   \n",
       "4   Audi A4 New 2.0 TDI Multitronic  Coimbatore  2013              40670   \n",
       "\n",
       "  Fuel_Type Transmission Owner_Type  Mileage  Engine   Power  Seats  \\\n",
       "0       CNG       Manual      First  14.8162   998.0   58.16    5.0   \n",
       "1    Diesel       Manual      First  19.6700  1582.0  126.20    5.0   \n",
       "2    Petrol       Manual      First  18.2000  1199.0   88.70    5.0   \n",
       "3    Diesel       Manual      First  20.7700  1248.0   88.76    7.0   \n",
       "4    Diesel    Automatic     Second  15.2000  1968.0  140.80    5.0   \n",
       "\n",
       "   New_Price  Price  \n",
       "0        NaN   1.75  \n",
       "1        NaN  12.50  \n",
       "2  8.61 Lakh   4.50  \n",
       "3        NaN   6.00  \n",
       "4        NaN  17.74  "
      ]
     },
     "execution_count": 16,
     "metadata": {},
     "output_type": "execute_result"
    }
   ],
   "source": [
    "# there are two units of mileage kmpl and km/kg\n",
    "# for CNG multiplying factor is 0.557 and LPG is 0.667\n",
    "df.Mileage[df['Fuel_Type']=='CNG']=df.Mileage[df['Fuel_Type']=='CNG']*0.557\n",
    "df.Mileage[df['Fuel_Type']=='LPG']=df.Mileage[df['Fuel_Type']=='LPG']/1.5\n",
    "df.head()"
   ]
  },
  {
   "cell_type": "code",
   "execution_count": 17,
   "id": "7ef55e38",
   "metadata": {},
   "outputs": [],
   "source": [
    "#imputing the null values with mean,nedian,mode as per requirement\n",
    "df[df['Mileage']==0]\n",
    "df1=df.drop(df[df['Mileage']==0].index,axis=0)\n",
    "\n",
    "df['Mileage'].fillna(df1['Mileage'].mean(),inplace=True)\n",
    "df['Engine'].fillna(df['Engine'].median(),inplace=True)\n",
    "df['Power'].fillna(df['Power'].median(),inplace=True)\n",
    "df['Seats'].fillna(df['Seats'].mode()[0],inplace=True)"
   ]
  },
  {
   "cell_type": "code",
   "execution_count": 18,
   "id": "39e471b7",
   "metadata": {},
   "outputs": [
    {
     "data": {
      "text/html": [
       "<div>\n",
       "<style scoped>\n",
       "    .dataframe tbody tr th:only-of-type {\n",
       "        vertical-align: middle;\n",
       "    }\n",
       "\n",
       "    .dataframe tbody tr th {\n",
       "        vertical-align: top;\n",
       "    }\n",
       "\n",
       "    .dataframe thead th {\n",
       "        text-align: right;\n",
       "    }\n",
       "</style>\n",
       "<table border=\"1\" class=\"dataframe\">\n",
       "  <thead>\n",
       "    <tr style=\"text-align: right;\">\n",
       "      <th></th>\n",
       "      <th>Name</th>\n",
       "      <th>Location</th>\n",
       "      <th>Year</th>\n",
       "      <th>Kilometers_Driven</th>\n",
       "      <th>Fuel_Type</th>\n",
       "      <th>Transmission</th>\n",
       "      <th>Owner_Type</th>\n",
       "      <th>Mileage</th>\n",
       "      <th>Engine</th>\n",
       "      <th>Power</th>\n",
       "      <th>Seats</th>\n",
       "      <th>New_Price</th>\n",
       "      <th>Price</th>\n",
       "    </tr>\n",
       "  </thead>\n",
       "  <tbody>\n",
       "  </tbody>\n",
       "</table>\n",
       "</div>"
      ],
      "text/plain": [
       "Empty DataFrame\n",
       "Columns: [Name, Location, Year, Kilometers_Driven, Fuel_Type, Transmission, Owner_Type, Mileage, Engine, Power, Seats, New_Price, Price]\n",
       "Index: []"
      ]
     },
     "execution_count": 18,
     "metadata": {},
     "output_type": "execute_result"
    }
   ],
   "source": [
    "# there were some rows with milege 0, so replaced them with mean\n",
    "df.Mileage[df['Mileage']==0]=df1['Mileage'].mean()\n",
    "df[df['Mileage']==0]\n"
   ]
  },
  {
   "cell_type": "code",
   "execution_count": 19,
   "id": "710ae2ad",
   "metadata": {},
   "outputs": [
    {
     "data": {
      "text/html": [
       "<div>\n",
       "<style scoped>\n",
       "    .dataframe tbody tr th:only-of-type {\n",
       "        vertical-align: middle;\n",
       "    }\n",
       "\n",
       "    .dataframe tbody tr th {\n",
       "        vertical-align: top;\n",
       "    }\n",
       "\n",
       "    .dataframe thead th {\n",
       "        text-align: right;\n",
       "    }\n",
       "</style>\n",
       "<table border=\"1\" class=\"dataframe\">\n",
       "  <thead>\n",
       "    <tr style=\"text-align: right;\">\n",
       "      <th></th>\n",
       "      <th>Name</th>\n",
       "      <th>Location</th>\n",
       "      <th>Year</th>\n",
       "      <th>Kilometers_Driven</th>\n",
       "      <th>Fuel_Type</th>\n",
       "      <th>Transmission</th>\n",
       "      <th>Owner_Type</th>\n",
       "      <th>Mileage</th>\n",
       "      <th>Engine</th>\n",
       "      <th>Power</th>\n",
       "      <th>Seats</th>\n",
       "      <th>New_Price</th>\n",
       "      <th>Price</th>\n",
       "    </tr>\n",
       "  </thead>\n",
       "  <tbody>\n",
       "    <tr>\n",
       "      <th>0</th>\n",
       "      <td>Maruti Wagon R LXI CNG</td>\n",
       "      <td>Mumbai</td>\n",
       "      <td>2010</td>\n",
       "      <td>72000</td>\n",
       "      <td>CNG</td>\n",
       "      <td>Manual</td>\n",
       "      <td>First</td>\n",
       "      <td>14.8162</td>\n",
       "      <td>998.0</td>\n",
       "      <td>58.16</td>\n",
       "      <td>5.0</td>\n",
       "      <td>NaN</td>\n",
       "      <td>1.75</td>\n",
       "    </tr>\n",
       "    <tr>\n",
       "      <th>1</th>\n",
       "      <td>Hyundai Creta 1.6 CRDi SX Option</td>\n",
       "      <td>Pune</td>\n",
       "      <td>2015</td>\n",
       "      <td>41000</td>\n",
       "      <td>Diesel</td>\n",
       "      <td>Manual</td>\n",
       "      <td>First</td>\n",
       "      <td>19.6700</td>\n",
       "      <td>1582.0</td>\n",
       "      <td>126.20</td>\n",
       "      <td>5.0</td>\n",
       "      <td>NaN</td>\n",
       "      <td>12.50</td>\n",
       "    </tr>\n",
       "    <tr>\n",
       "      <th>2</th>\n",
       "      <td>Honda Jazz V</td>\n",
       "      <td>Chennai</td>\n",
       "      <td>2011</td>\n",
       "      <td>46000</td>\n",
       "      <td>Petrol</td>\n",
       "      <td>Manual</td>\n",
       "      <td>First</td>\n",
       "      <td>18.2000</td>\n",
       "      <td>1199.0</td>\n",
       "      <td>88.70</td>\n",
       "      <td>5.0</td>\n",
       "      <td>8.61 Lakh</td>\n",
       "      <td>4.50</td>\n",
       "    </tr>\n",
       "    <tr>\n",
       "      <th>3</th>\n",
       "      <td>Maruti Ertiga VDI</td>\n",
       "      <td>Chennai</td>\n",
       "      <td>2012</td>\n",
       "      <td>87000</td>\n",
       "      <td>Diesel</td>\n",
       "      <td>Manual</td>\n",
       "      <td>First</td>\n",
       "      <td>20.7700</td>\n",
       "      <td>1248.0</td>\n",
       "      <td>88.76</td>\n",
       "      <td>7.0</td>\n",
       "      <td>NaN</td>\n",
       "      <td>6.00</td>\n",
       "    </tr>\n",
       "    <tr>\n",
       "      <th>4</th>\n",
       "      <td>Audi A4 New 2.0 TDI Multitronic</td>\n",
       "      <td>Coimbatore</td>\n",
       "      <td>2013</td>\n",
       "      <td>40670</td>\n",
       "      <td>Diesel</td>\n",
       "      <td>Automatic</td>\n",
       "      <td>Second</td>\n",
       "      <td>15.2000</td>\n",
       "      <td>1968.0</td>\n",
       "      <td>140.80</td>\n",
       "      <td>5.0</td>\n",
       "      <td>NaN</td>\n",
       "      <td>17.74</td>\n",
       "    </tr>\n",
       "  </tbody>\n",
       "</table>\n",
       "</div>"
      ],
      "text/plain": [
       "                               Name    Location  Year  Kilometers_Driven  \\\n",
       "0            Maruti Wagon R LXI CNG      Mumbai  2010              72000   \n",
       "1  Hyundai Creta 1.6 CRDi SX Option        Pune  2015              41000   \n",
       "2                      Honda Jazz V     Chennai  2011              46000   \n",
       "3                 Maruti Ertiga VDI     Chennai  2012              87000   \n",
       "4   Audi A4 New 2.0 TDI Multitronic  Coimbatore  2013              40670   \n",
       "\n",
       "  Fuel_Type Transmission Owner_Type  Mileage  Engine   Power  Seats  \\\n",
       "0       CNG       Manual      First  14.8162   998.0   58.16    5.0   \n",
       "1    Diesel       Manual      First  19.6700  1582.0  126.20    5.0   \n",
       "2    Petrol       Manual      First  18.2000  1199.0   88.70    5.0   \n",
       "3    Diesel       Manual      First  20.7700  1248.0   88.76    7.0   \n",
       "4    Diesel    Automatic     Second  15.2000  1968.0  140.80    5.0   \n",
       "\n",
       "   New_Price  Price  \n",
       "0        NaN   1.75  \n",
       "1        NaN  12.50  \n",
       "2  8.61 Lakh   4.50  \n",
       "3        NaN   6.00  \n",
       "4        NaN  17.74  "
      ]
     },
     "execution_count": 19,
     "metadata": {},
     "output_type": "execute_result"
    }
   ],
   "source": [
    "# there were some rows with seats 0, so replaced them with mode\n",
    "df.Seats[df['Seats']==0]=df['Seats'].mode()[0]\n",
    "df.head()"
   ]
  },
  {
   "cell_type": "code",
   "execution_count": 20,
   "id": "7370404f",
   "metadata": {},
   "outputs": [],
   "source": [
    "df['Mileage'] = df['Mileage'].astype(float)"
   ]
  },
  {
   "cell_type": "code",
   "execution_count": 21,
   "id": "ae43548a",
   "metadata": {},
   "outputs": [
    {
     "data": {
      "text/plain": [
       "5.0     5055\n",
       "7.0      674\n",
       "8.0      134\n",
       "4.0       99\n",
       "6.0       31\n",
       "2.0       16\n",
       "10.0       5\n",
       "9.0        3\n",
       "Name: Seats, dtype: int64"
      ]
     },
     "execution_count": 21,
     "metadata": {},
     "output_type": "execute_result"
    }
   ],
   "source": [
    "df.Seats.value_counts()"
   ]
  },
  {
   "cell_type": "markdown",
   "id": "f3866cc4",
   "metadata": {},
   "source": [
    "## 2. Univariate Analysis"
   ]
  },
  {
   "cell_type": "code",
   "execution_count": 22,
   "id": "15145c0c",
   "metadata": {
    "scrolled": true
   },
   "outputs": [
    {
     "data": {
      "text/html": [
       "<div>\n",
       "<style scoped>\n",
       "    .dataframe tbody tr th:only-of-type {\n",
       "        vertical-align: middle;\n",
       "    }\n",
       "\n",
       "    .dataframe tbody tr th {\n",
       "        vertical-align: top;\n",
       "    }\n",
       "\n",
       "    .dataframe thead th {\n",
       "        text-align: right;\n",
       "    }\n",
       "</style>\n",
       "<table border=\"1\" class=\"dataframe\">\n",
       "  <thead>\n",
       "    <tr style=\"text-align: right;\">\n",
       "      <th></th>\n",
       "      <th>Year</th>\n",
       "      <th>Kilometers_Driven</th>\n",
       "      <th>Mileage</th>\n",
       "      <th>Engine</th>\n",
       "      <th>Power</th>\n",
       "      <th>Seats</th>\n",
       "      <th>Price</th>\n",
       "    </tr>\n",
       "  </thead>\n",
       "  <tbody>\n",
       "    <tr>\n",
       "      <th>count</th>\n",
       "      <td>6017.000000</td>\n",
       "      <td>6.017000e+03</td>\n",
       "      <td>6017.000000</td>\n",
       "      <td>6017.000000</td>\n",
       "      <td>6017.000000</td>\n",
       "      <td>6017.000000</td>\n",
       "      <td>6017.000000</td>\n",
       "    </tr>\n",
       "    <tr>\n",
       "      <th>mean</th>\n",
       "      <td>2013.358152</td>\n",
       "      <td>5.874228e+04</td>\n",
       "      <td>18.225395</td>\n",
       "      <td>1620.737078</td>\n",
       "      <td>112.902114</td>\n",
       "      <td>5.277713</td>\n",
       "      <td>9.478340</td>\n",
       "    </tr>\n",
       "    <tr>\n",
       "      <th>std</th>\n",
       "      <td>3.269967</td>\n",
       "      <td>9.128375e+04</td>\n",
       "      <td>4.089102</td>\n",
       "      <td>599.398319</td>\n",
       "      <td>53.282014</td>\n",
       "      <td>0.803597</td>\n",
       "      <td>11.189605</td>\n",
       "    </tr>\n",
       "    <tr>\n",
       "      <th>min</th>\n",
       "      <td>1998.000000</td>\n",
       "      <td>1.710000e+02</td>\n",
       "      <td>6.400000</td>\n",
       "      <td>624.000000</td>\n",
       "      <td>34.200000</td>\n",
       "      <td>2.000000</td>\n",
       "      <td>0.440000</td>\n",
       "    </tr>\n",
       "    <tr>\n",
       "      <th>25%</th>\n",
       "      <td>2011.000000</td>\n",
       "      <td>3.400000e+04</td>\n",
       "      <td>15.290000</td>\n",
       "      <td>1198.000000</td>\n",
       "      <td>78.000000</td>\n",
       "      <td>5.000000</td>\n",
       "      <td>3.500000</td>\n",
       "    </tr>\n",
       "    <tr>\n",
       "      <th>50%</th>\n",
       "      <td>2014.000000</td>\n",
       "      <td>5.300000e+04</td>\n",
       "      <td>18.200000</td>\n",
       "      <td>1493.000000</td>\n",
       "      <td>97.700000</td>\n",
       "      <td>5.000000</td>\n",
       "      <td>5.640000</td>\n",
       "    </tr>\n",
       "    <tr>\n",
       "      <th>75%</th>\n",
       "      <td>2016.000000</td>\n",
       "      <td>7.300000e+04</td>\n",
       "      <td>20.920000</td>\n",
       "      <td>1969.000000</td>\n",
       "      <td>138.030000</td>\n",
       "      <td>5.000000</td>\n",
       "      <td>9.950000</td>\n",
       "    </tr>\n",
       "    <tr>\n",
       "      <th>max</th>\n",
       "      <td>2019.000000</td>\n",
       "      <td>6.500000e+06</td>\n",
       "      <td>28.400000</td>\n",
       "      <td>5998.000000</td>\n",
       "      <td>560.000000</td>\n",
       "      <td>10.000000</td>\n",
       "      <td>160.000000</td>\n",
       "    </tr>\n",
       "  </tbody>\n",
       "</table>\n",
       "</div>"
      ],
      "text/plain": [
       "              Year  Kilometers_Driven      Mileage       Engine        Power  \\\n",
       "count  6017.000000       6.017000e+03  6017.000000  6017.000000  6017.000000   \n",
       "mean   2013.358152       5.874228e+04    18.225395  1620.737078   112.902114   \n",
       "std       3.269967       9.128375e+04     4.089102   599.398319    53.282014   \n",
       "min    1998.000000       1.710000e+02     6.400000   624.000000    34.200000   \n",
       "25%    2011.000000       3.400000e+04    15.290000  1198.000000    78.000000   \n",
       "50%    2014.000000       5.300000e+04    18.200000  1493.000000    97.700000   \n",
       "75%    2016.000000       7.300000e+04    20.920000  1969.000000   138.030000   \n",
       "max    2019.000000       6.500000e+06    28.400000  5998.000000   560.000000   \n",
       "\n",
       "             Seats        Price  \n",
       "count  6017.000000  6017.000000  \n",
       "mean      5.277713     9.478340  \n",
       "std       0.803597    11.189605  \n",
       "min       2.000000     0.440000  \n",
       "25%       5.000000     3.500000  \n",
       "50%       5.000000     5.640000  \n",
       "75%       5.000000     9.950000  \n",
       "max      10.000000   160.000000  "
      ]
     },
     "execution_count": 22,
     "metadata": {},
     "output_type": "execute_result"
    }
   ],
   "source": [
    "#descriptive statistics of numeric columns\n",
    "df.describe()"
   ]
  },
  {
   "cell_type": "markdown",
   "id": "797abbe1",
   "metadata": {},
   "source": [
    "**INFERENCE:** Kilometers_Driven ,Power ,Engine ,Price: these columns have outliers. we will remove outliers while performing univariate analysis.\n",
    "Mileage and Seats: these columns have zeros in some rows."
   ]
  },
  {
   "cell_type": "code",
   "execution_count": 23,
   "id": "8ab1c417",
   "metadata": {},
   "outputs": [
    {
     "data": {
      "text/html": [
       "<div>\n",
       "<style scoped>\n",
       "    .dataframe tbody tr th:only-of-type {\n",
       "        vertical-align: middle;\n",
       "    }\n",
       "\n",
       "    .dataframe tbody tr th {\n",
       "        vertical-align: top;\n",
       "    }\n",
       "\n",
       "    .dataframe thead th {\n",
       "        text-align: right;\n",
       "    }\n",
       "</style>\n",
       "<table border=\"1\" class=\"dataframe\">\n",
       "  <thead>\n",
       "    <tr style=\"text-align: right;\">\n",
       "      <th></th>\n",
       "      <th>Name</th>\n",
       "      <th>Location</th>\n",
       "      <th>Fuel_Type</th>\n",
       "      <th>Transmission</th>\n",
       "      <th>Owner_Type</th>\n",
       "      <th>New_Price</th>\n",
       "    </tr>\n",
       "  </thead>\n",
       "  <tbody>\n",
       "    <tr>\n",
       "      <th>count</th>\n",
       "      <td>6017</td>\n",
       "      <td>6017</td>\n",
       "      <td>6017</td>\n",
       "      <td>6017</td>\n",
       "      <td>6017</td>\n",
       "      <td>823</td>\n",
       "    </tr>\n",
       "    <tr>\n",
       "      <th>unique</th>\n",
       "      <td>1874</td>\n",
       "      <td>11</td>\n",
       "      <td>4</td>\n",
       "      <td>2</td>\n",
       "      <td>4</td>\n",
       "      <td>540</td>\n",
       "    </tr>\n",
       "    <tr>\n",
       "      <th>top</th>\n",
       "      <td>Mahindra XUV500 W8 2WD</td>\n",
       "      <td>Mumbai</td>\n",
       "      <td>Diesel</td>\n",
       "      <td>Manual</td>\n",
       "      <td>First</td>\n",
       "      <td>95.13 Lakh</td>\n",
       "    </tr>\n",
       "    <tr>\n",
       "      <th>freq</th>\n",
       "      <td>49</td>\n",
       "      <td>789</td>\n",
       "      <td>3205</td>\n",
       "      <td>4299</td>\n",
       "      <td>4927</td>\n",
       "      <td>6</td>\n",
       "    </tr>\n",
       "  </tbody>\n",
       "</table>\n",
       "</div>"
      ],
      "text/plain": [
       "                          Name Location Fuel_Type Transmission Owner_Type  \\\n",
       "count                     6017     6017      6017         6017       6017   \n",
       "unique                    1874       11         4            2          4   \n",
       "top     Mahindra XUV500 W8 2WD   Mumbai    Diesel       Manual      First   \n",
       "freq                        49      789      3205         4299       4927   \n",
       "\n",
       "         New_Price  \n",
       "count          823  \n",
       "unique         540  \n",
       "top     95.13 Lakh  \n",
       "freq             6  "
      ]
     },
     "execution_count": 23,
     "metadata": {},
     "output_type": "execute_result"
    }
   ],
   "source": [
    "#descriptive statistics of categorical columns\n",
    "df.describe(include='object')"
   ]
  },
  {
   "cell_type": "code",
   "execution_count": 24,
   "id": "df0a9b28",
   "metadata": {},
   "outputs": [],
   "source": [
    "df=df.drop('Name',axis=1)"
   ]
  },
  {
   "cell_type": "markdown",
   "id": "ca87ea58",
   "metadata": {},
   "source": [
    " We can drop 'Name' column as it does not add information for prediction"
   ]
  },
  {
   "cell_type": "code",
   "execution_count": 25,
   "id": "f37de44f",
   "metadata": {},
   "outputs": [],
   "source": [
    "#function to plot graphs\n",
    "def plot_num(df,col):\n",
    "    fig ,ax = plt.subplots(1,2,figsize=(16,4))\n",
    "    sns.histplot(df,x=col,kde=True,ax=ax[0])\n",
    "    sns.boxplot(df,x=col,ax=ax[1])\n",
    "    ax[0].set_title(f'Distribution of {col}')\n",
    "    ax[1].set_title(f'{col} Boxplot')\n",
    "    fig.show();"
   ]
  },
  {
   "cell_type": "code",
   "execution_count": 26,
   "id": "db11b24f",
   "metadata": {},
   "outputs": [
    {
     "data": {
      "image/png": "[encoded data removed]",
      "text/plain": [
       "<Figure size 1600x400 with 2 Axes>"
      ]
     },
     "metadata": {},
     "output_type": "display_data"
    }
   ],
   "source": [
    "#distribution of kilometers driven\n",
    "plot_num(df,'Kilometers_Driven')\n",
    "#right skewed with median around 50000"
   ]
  },
  {
   "cell_type": "code",
   "execution_count": 27,
   "id": "fbd0cfe5",
   "metadata": {},
   "outputs": [
    {
     "data": {
      "image/png": "[encoded data removed]",
      "text/plain": [
       "<Figure size 800x400 with 1 Axes>"
      ]
     },
     "metadata": {},
     "output_type": "display_data"
    }
   ],
   "source": [
    "#count of fuel types\n",
    "plt.figure(figsize=(8,4))\n",
    "sns.countplot(df,x='Fuel_Type');\n",
    "plt.title('Distribution of Fuel_Type');\n",
    "#diesel and petrol type vehicle is highest"
   ]
  },
  {
   "cell_type": "code",
   "execution_count": 28,
   "id": "0bc14fd6",
   "metadata": {},
   "outputs": [
    {
     "data": {
      "image/png": "[encoded data removed]",
      "text/plain": [
       "<Figure size 1600x400 with 2 Axes>"
      ]
     },
     "metadata": {},
     "output_type": "display_data"
    }
   ],
   "source": [
    "#distribution of Mileage\n",
    "plot_num(df,'Mileage')\n",
    "#normal distribution with few outliers"
   ]
  },
  {
   "cell_type": "code",
   "execution_count": 29,
   "id": "8635decd",
   "metadata": {},
   "outputs": [
    {
     "data": {
      "image/png": "[encoded data removed]",
      "text/plain": [
       "<Figure size 1600x400 with 2 Axes>"
      ]
     },
     "metadata": {},
     "output_type": "display_data"
    }
   ],
   "source": [
    "#spread of target column price.\n",
    "plot_num(df,'Price')\n",
    "#plots of outliers; some transformation may be required"
   ]
  },
  {
   "cell_type": "markdown",
   "id": "c7c38dda",
   "metadata": {},
   "source": [
    "## 3. Bivariate Analysis"
   ]
  },
  {
   "cell_type": "code",
   "execution_count": 30,
   "id": "9ded25be",
   "metadata": {},
   "outputs": [
    {
     "data": {
      "image/png": "[encoded data removed]",
      "text/plain": [
       "<Figure size 1500x600 with 2 Axes>"
      ]
     },
     "metadata": {},
     "output_type": "display_data"
    }
   ],
   "source": [
    "#checking correlation in the data\n",
    "numeric_data = df.select_dtypes(include=[np.number])\n",
    "plt.figure(figsize=(15,6))\n",
    "sns.heatmap(numeric_data.corr(),annot=True, fmt='.2g')\n",
    "plt.title('CORRELATION IN THE DATA');"
   ]
  },
  {
   "cell_type": "markdown",
   "id": "1df84796",
   "metadata": {},
   "source": [
    "**Inference:**  High correlation between power, engine and price."
   ]
  },
  {
   "cell_type": "code",
   "execution_count": 31,
   "id": "1b9db50e",
   "metadata": {},
   "outputs": [],
   "source": [
    "#seeing the overall distribution and relationship of all columns\n",
    "# sns.pairplot(df)"
   ]
  },
  {
   "cell_type": "code",
   "execution_count": 32,
   "id": "d1f09ec4",
   "metadata": {},
   "outputs": [
    {
     "data": {
      "text/html": [
       "<div>\n",
       "<style scoped>\n",
       "    .dataframe tbody tr th:only-of-type {\n",
       "        vertical-align: middle;\n",
       "    }\n",
       "\n",
       "    .dataframe tbody tr th {\n",
       "        vertical-align: top;\n",
       "    }\n",
       "\n",
       "    .dataframe thead th {\n",
       "        text-align: right;\n",
       "    }\n",
       "</style>\n",
       "<table border=\"1\" class=\"dataframe\">\n",
       "  <thead>\n",
       "    <tr style=\"text-align: right;\">\n",
       "      <th></th>\n",
       "      <th>Year</th>\n",
       "      <th>Kilometers_Driven</th>\n",
       "      <th>Mileage</th>\n",
       "      <th>Engine</th>\n",
       "      <th>Power</th>\n",
       "      <th>Seats</th>\n",
       "      <th>Price</th>\n",
       "    </tr>\n",
       "  </thead>\n",
       "  <tbody>\n",
       "    <tr>\n",
       "      <th>0</th>\n",
       "      <td>2010</td>\n",
       "      <td>72000</td>\n",
       "      <td>14.8162</td>\n",
       "      <td>998.0</td>\n",
       "      <td>58.16</td>\n",
       "      <td>5.0</td>\n",
       "      <td>1.75</td>\n",
       "    </tr>\n",
       "    <tr>\n",
       "      <th>1</th>\n",
       "      <td>2015</td>\n",
       "      <td>41000</td>\n",
       "      <td>19.6700</td>\n",
       "      <td>1582.0</td>\n",
       "      <td>126.20</td>\n",
       "      <td>5.0</td>\n",
       "      <td>12.50</td>\n",
       "    </tr>\n",
       "    <tr>\n",
       "      <th>2</th>\n",
       "      <td>2011</td>\n",
       "      <td>46000</td>\n",
       "      <td>18.2000</td>\n",
       "      <td>1199.0</td>\n",
       "      <td>88.70</td>\n",
       "      <td>5.0</td>\n",
       "      <td>4.50</td>\n",
       "    </tr>\n",
       "    <tr>\n",
       "      <th>3</th>\n",
       "      <td>2012</td>\n",
       "      <td>87000</td>\n",
       "      <td>20.7700</td>\n",
       "      <td>1248.0</td>\n",
       "      <td>88.76</td>\n",
       "      <td>7.0</td>\n",
       "      <td>6.00</td>\n",
       "    </tr>\n",
       "    <tr>\n",
       "      <th>4</th>\n",
       "      <td>2013</td>\n",
       "      <td>40670</td>\n",
       "      <td>15.2000</td>\n",
       "      <td>1968.0</td>\n",
       "      <td>140.80</td>\n",
       "      <td>5.0</td>\n",
       "      <td>17.74</td>\n",
       "    </tr>\n",
       "  </tbody>\n",
       "</table>\n",
       "</div>"
      ],
      "text/plain": [
       "   Year  Kilometers_Driven  Mileage  Engine   Power  Seats  Price\n",
       "0  2010              72000  14.8162   998.0   58.16    5.0   1.75\n",
       "1  2015              41000  19.6700  1582.0  126.20    5.0  12.50\n",
       "2  2011              46000  18.2000  1199.0   88.70    5.0   4.50\n",
       "3  2012              87000  20.7700  1248.0   88.76    7.0   6.00\n",
       "4  2013              40670  15.2000  1968.0  140.80    5.0  17.74"
      ]
     },
     "execution_count": 32,
     "metadata": {},
     "output_type": "execute_result"
    }
   ],
   "source": [
    "#preparing the data for modeling ahead.\n",
    "df_num=df.select_dtypes(include='number')\n",
    "df_num.head()"
   ]
  },
  {
   "cell_type": "code",
   "execution_count": 33,
   "id": "87f10d8a",
   "metadata": {},
   "outputs": [
    {
     "data": {
      "text/plain": [
       "(4776, 12)"
      ]
     },
     "execution_count": 33,
     "metadata": {},
     "output_type": "execute_result"
    }
   ],
   "source": [
    "#counting and removing outliers\n",
    "\n",
    "Q3 = df_num.quantile(0.75)\n",
    "Q1 = df_num.quantile(0.25)\n",
    "IQR = Q3 - Q1\n",
    "\n",
    "# ~ represents NOT or Exclude such rows\n",
    "df=df[~((df_num < (Q1 - 3 * IQR)) |(df_num > (Q3 + 3 * IQR))).any(axis=1)]\n",
    "df.shape"
   ]
  },
  {
   "cell_type": "code",
   "execution_count": 34,
   "id": "6b9742e2",
   "metadata": {},
   "outputs": [],
   "source": [
    "#splitting the data into train and test\n",
    "X_train, X_test, y_train, y_test = train_test_split(df, df.Price, random_state = 10, test_size = 0.2)"
   ]
  },
  {
   "cell_type": "code",
   "execution_count": 35,
   "id": "4e7831e6",
   "metadata": {},
   "outputs": [
    {
     "data": {
      "text/plain": [
       "0"
      ]
     },
     "execution_count": 35,
     "metadata": {},
     "output_type": "execute_result"
    }
   ],
   "source": [
    "df.Mileage.isna().sum()"
   ]
  },
  {
   "cell_type": "code",
   "execution_count": 36,
   "id": "411820af",
   "metadata": {},
   "outputs": [
    {
     "data": {
      "text/plain": [
       "((956, 5), (3820, 5))"
      ]
     },
     "execution_count": 36,
     "metadata": {},
     "output_type": "execute_result"
    }
   ],
   "source": [
    "#scaling the numerical features for modelling ahead\n",
    "feat_num1=X_train[['Kilometers_Driven','Mileage', 'Engine', 'Power', 'Seats']]\n",
    "mmscaler1 = MinMaxScaler()\n",
    "X1_train= pd.DataFrame(mmscaler1.fit_transform(feat_num1), columns=feat_num1.columns)\n",
    "X1_train.head()\n",
    "feat_num2=X_test[['Kilometers_Driven','Mileage', 'Engine', 'Power', 'Seats']]\n",
    "mmscaler2 = MinMaxScaler()\n",
    "X1_test= pd.DataFrame(mmscaler2.fit_transform(feat_num2), columns=feat_num2.columns)\n",
    "X1_test.shape,X1_train.shape"
   ]
  },
  {
   "cell_type": "code",
   "execution_count": 37,
   "id": "2874a7ba",
   "metadata": {
    "scrolled": true
   },
   "outputs": [
    {
     "data": {
      "text/plain": [
       "Kilometers_Driven    0\n",
       "Mileage              0\n",
       "Engine               0\n",
       "Power                0\n",
       "Seats                0\n",
       "dtype: int64"
      ]
     },
     "execution_count": 37,
     "metadata": {},
     "output_type": "execute_result"
    }
   ],
   "source": [
    "feat_num1.isnull().sum()"
   ]
  },
  {
   "cell_type": "code",
   "execution_count": 38,
   "id": "672796fd",
   "metadata": {},
   "outputs": [
    {
     "data": {
      "text/html": [
       "<div>\n",
       "<style scoped>\n",
       "    .dataframe tbody tr th:only-of-type {\n",
       "        vertical-align: middle;\n",
       "    }\n",
       "\n",
       "    .dataframe tbody tr th {\n",
       "        vertical-align: top;\n",
       "    }\n",
       "\n",
       "    .dataframe thead th {\n",
       "        text-align: right;\n",
       "    }\n",
       "</style>\n",
       "<table border=\"1\" class=\"dataframe\">\n",
       "  <thead>\n",
       "    <tr style=\"text-align: right;\">\n",
       "      <th></th>\n",
       "      <th>Location_Ahmedabad</th>\n",
       "      <th>Location_Bangalore</th>\n",
       "      <th>Location_Chennai</th>\n",
       "      <th>Location_Coimbatore</th>\n",
       "      <th>Location_Delhi</th>\n",
       "      <th>Location_Hyderabad</th>\n",
       "      <th>Location_Jaipur</th>\n",
       "      <th>Location_Kochi</th>\n",
       "      <th>Location_Kolkata</th>\n",
       "      <th>Location_Mumbai</th>\n",
       "      <th>...</th>\n",
       "      <th>Fuel_Type_CNG</th>\n",
       "      <th>Fuel_Type_Diesel</th>\n",
       "      <th>Fuel_Type_LPG</th>\n",
       "      <th>Fuel_Type_Petrol</th>\n",
       "      <th>Transmission_Automatic</th>\n",
       "      <th>Transmission_Manual</th>\n",
       "      <th>Owner_Type_First</th>\n",
       "      <th>Owner_Type_Fourth &amp; Above</th>\n",
       "      <th>Owner_Type_Second</th>\n",
       "      <th>Owner_Type_Third</th>\n",
       "    </tr>\n",
       "  </thead>\n",
       "  <tbody>\n",
       "    <tr>\n",
       "      <th>0</th>\n",
       "      <td>0.0</td>\n",
       "      <td>0.0</td>\n",
       "      <td>0.0</td>\n",
       "      <td>0.0</td>\n",
       "      <td>0.0</td>\n",
       "      <td>0.0</td>\n",
       "      <td>0.0</td>\n",
       "      <td>0.0</td>\n",
       "      <td>0.0</td>\n",
       "      <td>1.0</td>\n",
       "      <td>...</td>\n",
       "      <td>0.0</td>\n",
       "      <td>1.0</td>\n",
       "      <td>0.0</td>\n",
       "      <td>0.0</td>\n",
       "      <td>1.0</td>\n",
       "      <td>0.0</td>\n",
       "      <td>0.0</td>\n",
       "      <td>0.0</td>\n",
       "      <td>1.0</td>\n",
       "      <td>0.0</td>\n",
       "    </tr>\n",
       "    <tr>\n",
       "      <th>1</th>\n",
       "      <td>0.0</td>\n",
       "      <td>0.0</td>\n",
       "      <td>0.0</td>\n",
       "      <td>1.0</td>\n",
       "      <td>0.0</td>\n",
       "      <td>0.0</td>\n",
       "      <td>0.0</td>\n",
       "      <td>0.0</td>\n",
       "      <td>0.0</td>\n",
       "      <td>0.0</td>\n",
       "      <td>...</td>\n",
       "      <td>0.0</td>\n",
       "      <td>0.0</td>\n",
       "      <td>0.0</td>\n",
       "      <td>1.0</td>\n",
       "      <td>0.0</td>\n",
       "      <td>1.0</td>\n",
       "      <td>1.0</td>\n",
       "      <td>0.0</td>\n",
       "      <td>0.0</td>\n",
       "      <td>0.0</td>\n",
       "    </tr>\n",
       "    <tr>\n",
       "      <th>2</th>\n",
       "      <td>0.0</td>\n",
       "      <td>0.0</td>\n",
       "      <td>0.0</td>\n",
       "      <td>1.0</td>\n",
       "      <td>0.0</td>\n",
       "      <td>0.0</td>\n",
       "      <td>0.0</td>\n",
       "      <td>0.0</td>\n",
       "      <td>0.0</td>\n",
       "      <td>0.0</td>\n",
       "      <td>...</td>\n",
       "      <td>0.0</td>\n",
       "      <td>1.0</td>\n",
       "      <td>0.0</td>\n",
       "      <td>0.0</td>\n",
       "      <td>1.0</td>\n",
       "      <td>0.0</td>\n",
       "      <td>1.0</td>\n",
       "      <td>0.0</td>\n",
       "      <td>0.0</td>\n",
       "      <td>0.0</td>\n",
       "    </tr>\n",
       "    <tr>\n",
       "      <th>3</th>\n",
       "      <td>0.0</td>\n",
       "      <td>0.0</td>\n",
       "      <td>0.0</td>\n",
       "      <td>1.0</td>\n",
       "      <td>0.0</td>\n",
       "      <td>0.0</td>\n",
       "      <td>0.0</td>\n",
       "      <td>0.0</td>\n",
       "      <td>0.0</td>\n",
       "      <td>0.0</td>\n",
       "      <td>...</td>\n",
       "      <td>0.0</td>\n",
       "      <td>1.0</td>\n",
       "      <td>0.0</td>\n",
       "      <td>0.0</td>\n",
       "      <td>1.0</td>\n",
       "      <td>0.0</td>\n",
       "      <td>1.0</td>\n",
       "      <td>0.0</td>\n",
       "      <td>0.0</td>\n",
       "      <td>0.0</td>\n",
       "    </tr>\n",
       "    <tr>\n",
       "      <th>4</th>\n",
       "      <td>0.0</td>\n",
       "      <td>0.0</td>\n",
       "      <td>0.0</td>\n",
       "      <td>0.0</td>\n",
       "      <td>0.0</td>\n",
       "      <td>0.0</td>\n",
       "      <td>0.0</td>\n",
       "      <td>0.0</td>\n",
       "      <td>1.0</td>\n",
       "      <td>0.0</td>\n",
       "      <td>...</td>\n",
       "      <td>0.0</td>\n",
       "      <td>0.0</td>\n",
       "      <td>0.0</td>\n",
       "      <td>1.0</td>\n",
       "      <td>0.0</td>\n",
       "      <td>1.0</td>\n",
       "      <td>1.0</td>\n",
       "      <td>0.0</td>\n",
       "      <td>0.0</td>\n",
       "      <td>0.0</td>\n",
       "    </tr>\n",
       "  </tbody>\n",
       "</table>\n",
       "<p>5 rows × 21 columns</p>\n",
       "</div>"
      ],
      "text/plain": [
       "   Location_Ahmedabad  Location_Bangalore  Location_Chennai  \\\n",
       "0                 0.0                 0.0               0.0   \n",
       "1                 0.0                 0.0               0.0   \n",
       "2                 0.0                 0.0               0.0   \n",
       "3                 0.0                 0.0               0.0   \n",
       "4                 0.0                 0.0               0.0   \n",
       "\n",
       "   Location_Coimbatore  Location_Delhi  Location_Hyderabad  Location_Jaipur  \\\n",
       "0                  0.0             0.0                 0.0              0.0   \n",
       "1                  1.0             0.0                 0.0              0.0   \n",
       "2                  1.0             0.0                 0.0              0.0   \n",
       "3                  1.0             0.0                 0.0              0.0   \n",
       "4                  0.0             0.0                 0.0              0.0   \n",
       "\n",
       "   Location_Kochi  Location_Kolkata  Location_Mumbai  ...  Fuel_Type_CNG  \\\n",
       "0             0.0               0.0              1.0  ...            0.0   \n",
       "1             0.0               0.0              0.0  ...            0.0   \n",
       "2             0.0               0.0              0.0  ...            0.0   \n",
       "3             0.0               0.0              0.0  ...            0.0   \n",
       "4             0.0               1.0              0.0  ...            0.0   \n",
       "\n",
       "   Fuel_Type_Diesel  Fuel_Type_LPG  Fuel_Type_Petrol  Transmission_Automatic  \\\n",
       "0               1.0            0.0               0.0                     1.0   \n",
       "1               0.0            0.0               1.0                     0.0   \n",
       "2               1.0            0.0               0.0                     1.0   \n",
       "3               1.0            0.0               0.0                     1.0   \n",
       "4               0.0            0.0               1.0                     0.0   \n",
       "\n",
       "   Transmission_Manual  Owner_Type_First  Owner_Type_Fourth & Above  \\\n",
       "0                  0.0               0.0                        0.0   \n",
       "1                  1.0               1.0                        0.0   \n",
       "2                  0.0               1.0                        0.0   \n",
       "3                  0.0               1.0                        0.0   \n",
       "4                  1.0               1.0                        0.0   \n",
       "\n",
       "   Owner_Type_Second  Owner_Type_Third  \n",
       "0                1.0               0.0  \n",
       "1                0.0               0.0  \n",
       "2                0.0               0.0  \n",
       "3                0.0               0.0  \n",
       "4                0.0               0.0  \n",
       "\n",
       "[5 rows x 21 columns]"
      ]
     },
     "execution_count": 38,
     "metadata": {},
     "output_type": "execute_result"
    }
   ],
   "source": [
    "#encoding the categorical columns for modelling ahead\n",
    "feat_cat1=X_train[['Location','Fuel_Type','Transmission','Owner_Type']]\n",
    "OHE1 = OneHotEncoder()\n",
    "X2_train=OHE1.fit_transform(feat_cat1)\n",
    "X2_train= pd.DataFrame(OHE1.fit_transform(feat_cat1).toarray(), columns=OHE1.get_feature_names_out())\n",
    "X2_train.head()"
   ]
  },
  {
   "cell_type": "code",
   "execution_count": 39,
   "id": "b9c86474",
   "metadata": {},
   "outputs": [
    {
     "data": {
      "text/plain": [
       "((956, 21), (3820, 21))"
      ]
     },
     "execution_count": 39,
     "metadata": {},
     "output_type": "execute_result"
    }
   ],
   "source": [
    "#encoding the categorical columns for modelling ahead\n",
    "feat_cat2=X_test[['Location','Fuel_Type','Transmission','Owner_Type']]\n",
    "OHE2 = OneHotEncoder()\n",
    "X2_test=OHE2.fit_transform(feat_cat2)\n",
    "X2_test= pd.DataFrame(OHE2.fit_transform(feat_cat2).toarray(), columns=OHE2.get_feature_names_out())\n",
    "X2_test.shape,X2_train.shape"
   ]
  },
  {
   "cell_type": "code",
   "execution_count": 40,
   "id": "f67c8017",
   "metadata": {},
   "outputs": [
    {
     "data": {
      "text/plain": [
       "(3820, 26)"
      ]
     },
     "execution_count": 40,
     "metadata": {},
     "output_type": "execute_result"
    }
   ],
   "source": [
    "#joining the numerical and categorical data \n",
    "X_train=pd.concat([X1_train,X2_train],axis=1)\n",
    "X_train.shape"
   ]
  },
  {
   "cell_type": "code",
   "execution_count": 41,
   "id": "fe3c7873",
   "metadata": {},
   "outputs": [
    {
     "data": {
      "text/plain": [
       "(956, 26)"
      ]
     },
     "execution_count": 41,
     "metadata": {},
     "output_type": "execute_result"
    }
   ],
   "source": [
    "X_test=pd.concat([X1_test,X2_test],axis=1)\n",
    "X_test.shape"
   ]
  },
  {
   "cell_type": "code",
   "execution_count": 42,
   "id": "79b949c4",
   "metadata": {},
   "outputs": [],
   "source": [
    "#defining y\n",
    "y=df['Price']"
   ]
  },
  {
   "cell_type": "code",
   "execution_count": 43,
   "id": "65ba4b39",
   "metadata": {},
   "outputs": [],
   "source": [
    "#name of columns\n",
    "df.columns\n",
    "df=df.dropna()"
   ]
  },
  {
   "cell_type": "markdown",
   "id": "3707bfc8",
   "metadata": {},
   "source": [
    "## 5. KNN Regression:"
   ]
  },
  {
   "cell_type": "code",
   "execution_count": 44,
   "id": "db951bc6",
   "metadata": {},
   "outputs": [
    {
     "data": {
      "text/html": [
       "<div>\n",
       "<style scoped>\n",
       "    .dataframe tbody tr th:only-of-type {\n",
       "        vertical-align: middle;\n",
       "    }\n",
       "\n",
       "    .dataframe tbody tr th {\n",
       "        vertical-align: top;\n",
       "    }\n",
       "\n",
       "    .dataframe thead th {\n",
       "        text-align: right;\n",
       "    }\n",
       "</style>\n",
       "<table border=\"1\" class=\"dataframe\">\n",
       "  <thead>\n",
       "    <tr style=\"text-align: right;\">\n",
       "      <th></th>\n",
       "      <th>k</th>\n",
       "      <th>RMSE Train</th>\n",
       "      <th>RMSE Test</th>\n",
       "      <th>MAPE Train</th>\n",
       "      <th>MAPE Test</th>\n",
       "    </tr>\n",
       "  </thead>\n",
       "  <tbody>\n",
       "    <tr>\n",
       "      <th>0</th>\n",
       "      <td>1</td>\n",
       "      <td>0.079640</td>\n",
       "      <td>3.571149</td>\n",
       "      <td>0.064283</td>\n",
       "      <td>39.488878</td>\n",
       "    </tr>\n",
       "    <tr>\n",
       "      <th>1</th>\n",
       "      <td>2</td>\n",
       "      <td>1.702451</td>\n",
       "      <td>3.189231</td>\n",
       "      <td>17.303926</td>\n",
       "      <td>36.608594</td>\n",
       "    </tr>\n",
       "    <tr>\n",
       "      <th>2</th>\n",
       "      <td>3</td>\n",
       "      <td>2.045834</td>\n",
       "      <td>3.103503</td>\n",
       "      <td>22.013632</td>\n",
       "      <td>36.735503</td>\n",
       "    </tr>\n",
       "    <tr>\n",
       "      <th>3</th>\n",
       "      <td>4</td>\n",
       "      <td>2.236788</td>\n",
       "      <td>3.127520</td>\n",
       "      <td>24.664432</td>\n",
       "      <td>36.574490</td>\n",
       "    </tr>\n",
       "    <tr>\n",
       "      <th>4</th>\n",
       "      <td>5</td>\n",
       "      <td>2.378514</td>\n",
       "      <td>3.140907</td>\n",
       "      <td>26.496259</td>\n",
       "      <td>37.070908</td>\n",
       "    </tr>\n",
       "    <tr>\n",
       "      <th>5</th>\n",
       "      <td>6</td>\n",
       "      <td>2.474256</td>\n",
       "      <td>3.096721</td>\n",
       "      <td>27.961587</td>\n",
       "      <td>37.280795</td>\n",
       "    </tr>\n",
       "    <tr>\n",
       "      <th>6</th>\n",
       "      <td>7</td>\n",
       "      <td>2.541206</td>\n",
       "      <td>3.112675</td>\n",
       "      <td>29.225366</td>\n",
       "      <td>37.531777</td>\n",
       "    </tr>\n",
       "    <tr>\n",
       "      <th>7</th>\n",
       "      <td>8</td>\n",
       "      <td>2.598750</td>\n",
       "      <td>3.127786</td>\n",
       "      <td>30.263750</td>\n",
       "      <td>37.580543</td>\n",
       "    </tr>\n",
       "    <tr>\n",
       "      <th>8</th>\n",
       "      <td>9</td>\n",
       "      <td>2.637689</td>\n",
       "      <td>3.131686</td>\n",
       "      <td>30.974986</td>\n",
       "      <td>37.723693</td>\n",
       "    </tr>\n",
       "    <tr>\n",
       "      <th>9</th>\n",
       "      <td>10</td>\n",
       "      <td>2.684713</td>\n",
       "      <td>3.117992</td>\n",
       "      <td>31.676766</td>\n",
       "      <td>37.606433</td>\n",
       "    </tr>\n",
       "    <tr>\n",
       "      <th>10</th>\n",
       "      <td>11</td>\n",
       "      <td>2.735024</td>\n",
       "      <td>3.120674</td>\n",
       "      <td>32.344497</td>\n",
       "      <td>37.851685</td>\n",
       "    </tr>\n",
       "    <tr>\n",
       "      <th>11</th>\n",
       "      <td>12</td>\n",
       "      <td>2.777113</td>\n",
       "      <td>3.155038</td>\n",
       "      <td>32.810690</td>\n",
       "      <td>38.215477</td>\n",
       "    </tr>\n",
       "    <tr>\n",
       "      <th>12</th>\n",
       "      <td>13</td>\n",
       "      <td>2.818384</td>\n",
       "      <td>3.199602</td>\n",
       "      <td>33.195904</td>\n",
       "      <td>38.339967</td>\n",
       "    </tr>\n",
       "    <tr>\n",
       "      <th>13</th>\n",
       "      <td>14</td>\n",
       "      <td>2.848845</td>\n",
       "      <td>3.205553</td>\n",
       "      <td>33.750871</td>\n",
       "      <td>38.485646</td>\n",
       "    </tr>\n",
       "    <tr>\n",
       "      <th>14</th>\n",
       "      <td>15</td>\n",
       "      <td>2.884358</td>\n",
       "      <td>3.213662</td>\n",
       "      <td>34.135659</td>\n",
       "      <td>38.639494</td>\n",
       "    </tr>\n",
       "    <tr>\n",
       "      <th>15</th>\n",
       "      <td>16</td>\n",
       "      <td>2.903537</td>\n",
       "      <td>3.210356</td>\n",
       "      <td>34.504462</td>\n",
       "      <td>38.770983</td>\n",
       "    </tr>\n",
       "    <tr>\n",
       "      <th>16</th>\n",
       "      <td>17</td>\n",
       "      <td>2.924294</td>\n",
       "      <td>3.231237</td>\n",
       "      <td>34.924635</td>\n",
       "      <td>39.253543</td>\n",
       "    </tr>\n",
       "    <tr>\n",
       "      <th>17</th>\n",
       "      <td>18</td>\n",
       "      <td>2.941663</td>\n",
       "      <td>3.239122</td>\n",
       "      <td>35.285776</td>\n",
       "      <td>39.340591</td>\n",
       "    </tr>\n",
       "    <tr>\n",
       "      <th>18</th>\n",
       "      <td>19</td>\n",
       "      <td>2.967518</td>\n",
       "      <td>3.242319</td>\n",
       "      <td>35.601149</td>\n",
       "      <td>39.600560</td>\n",
       "    </tr>\n",
       "  </tbody>\n",
       "</table>\n",
       "</div>"
      ],
      "text/plain": [
       "     k  RMSE Train  RMSE Test   MAPE Train  MAPE Test\n",
       "0    1    0.079640   3.571149     0.064283  39.488878\n",
       "1    2    1.702451   3.189231    17.303926  36.608594\n",
       "2    3    2.045834   3.103503    22.013632  36.735503\n",
       "3    4    2.236788   3.127520    24.664432  36.574490\n",
       "4    5    2.378514   3.140907    26.496259  37.070908\n",
       "5    6    2.474256   3.096721    27.961587  37.280795\n",
       "6    7    2.541206   3.112675    29.225366  37.531777\n",
       "7    8    2.598750   3.127786    30.263750  37.580543\n",
       "8    9    2.637689   3.131686    30.974986  37.723693\n",
       "9   10    2.684713   3.117992    31.676766  37.606433\n",
       "10  11    2.735024   3.120674    32.344497  37.851685\n",
       "11  12    2.777113   3.155038    32.810690  38.215477\n",
       "12  13    2.818384   3.199602    33.195904  38.339967\n",
       "13  14    2.848845   3.205553    33.750871  38.485646\n",
       "14  15    2.884358   3.213662    34.135659  38.639494\n",
       "15  16    2.903537   3.210356    34.504462  38.770983\n",
       "16  17    2.924294   3.231237    34.924635  39.253543\n",
       "17  18    2.941663   3.239122    35.285776  39.340591\n",
       "18  19    2.967518   3.242319    35.601149  39.600560"
      ]
     },
     "execution_count": 44,
     "metadata": {},
     "output_type": "execute_result"
    }
   ],
   "source": [
    "#fitting the model\n",
    "RMSE_Train=[]\n",
    "RMSE_Test=[]\n",
    "MAPE_Train=[]\n",
    "MAPE_Test=[]\n",
    "k=[]\n",
    "for i in range(1,20):\n",
    "    knn_reg = KNeighborsRegressor(n_neighbors=i)\n",
    "    knn_reg.fit(X_train, y_train)\n",
    "    #predicting the train data\n",
    "    train_preds = knn_reg.predict(X_train)\n",
    "    #calculating the train performance\n",
    "    mse = mean_squared_error(y_train, train_preds)\n",
    "    knn_rmse_train = sqrt(mse)\n",
    "    knn_mape_train=np.mean(abs(y_train - train_preds)/y_train)*100\n",
    "    test_preds = knn_reg.predict(X_test)\n",
    "    \n",
    "    #calculating the test performance\n",
    "    mse = mean_squared_error(y_test, test_preds)\n",
    "    knn_rmse_test = sqrt(mse)\n",
    "    knn_mape_test=np.mean(abs(y_test - test_preds)/y_test)*100\n",
    "    RMSE_Train.append(knn_rmse_train)\n",
    "    RMSE_Test.append(knn_rmse_test)\n",
    "    MAPE_Train.append(knn_mape_train)\n",
    "    MAPE_Test.append(knn_mape_test)\n",
    "    k.append(i)\n",
    "\n",
    "knn_res=pd.DataFrame({'k':k,'RMSE Train':RMSE_Train,'RMSE Test':RMSE_Test,' MAPE Train':MAPE_Train,'MAPE Test':MAPE_Test})\n",
    "knn_res\n",
    "\n",
    "# balance of evaluation matrix with consistency in train and test is achieved at k=7"
   ]
  },
  {
   "cell_type": "code",
   "execution_count": 45,
   "id": "114b7db0",
   "metadata": {},
   "outputs": [
    {
     "data": {
      "image/png": "[encoded data removed]",
      "text/plain": [
       "<Figure size 640x480 with 1 Axes>"
      ]
     },
     "metadata": {},
     "output_type": "display_data"
    }
   ],
   "source": [
    "# plt.plot(k, rmse_diff_values, marker='o',label='rmse_diff_values')\n",
    "plt.plot(k, RMSE_Train, marker='o',label='rmse_train_values')\n",
    "plt.plot(k,RMSE_Test , marker='o',label='rmse_test_values')\n",
    "plt.plot(k,MAPE_Train , marker='o',label='mape_train_values')\n",
    "plt.plot(k,MAPE_Test , marker='o',label='mape_test_values')\n",
    "\n",
    "plt.xlabel('K Values')\n",
    "plt.ylabel('Difference in RMSE')\n",
    "plt.title('Train & Test RMSE vs. K-Values')\n",
    "plt.legend()\n",
    "plt.grid(True)\n",
    "plt.show();"
   ]
  },
  {
   "cell_type": "code",
   "execution_count": 46,
   "id": "f0576efe",
   "metadata": {},
   "outputs": [
    {
     "data": {
      "text/html": [
       "<div>\n",
       "<style scoped>\n",
       "    .dataframe tbody tr th:only-of-type {\n",
       "        vertical-align: middle;\n",
       "    }\n",
       "\n",
       "    .dataframe tbody tr th {\n",
       "        vertical-align: top;\n",
       "    }\n",
       "\n",
       "    .dataframe thead th {\n",
       "        text-align: right;\n",
       "    }\n",
       "</style>\n",
       "<table border=\"1\" class=\"dataframe\">\n",
       "  <thead>\n",
       "    <tr style=\"text-align: right;\">\n",
       "      <th></th>\n",
       "      <th>MODEL</th>\n",
       "      <th>Train_RMSE</th>\n",
       "      <th>Test_RMSE</th>\n",
       "      <th>Train_MAPE</th>\n",
       "      <th>Test_MAPE</th>\n",
       "      <th>R Sq</th>\n",
       "    </tr>\n",
       "  </thead>\n",
       "  <tbody>\n",
       "    <tr>\n",
       "      <th>0</th>\n",
       "      <td>K_Nearest_Neighbors</td>\n",
       "      <td>2.541206</td>\n",
       "      <td>3.112675</td>\n",
       "      <td>29.225366</td>\n",
       "      <td>37.531777</td>\n",
       "      <td>NA</td>\n",
       "    </tr>\n",
       "  </tbody>\n",
       "</table>\n",
       "</div>"
      ],
      "text/plain": [
       "                 MODEL  Train_RMSE  Test_RMSE  Train_MAPE  Test_MAPE R Sq\n",
       "0  K_Nearest_Neighbors    2.541206   3.112675   29.225366  37.531777   NA"
      ]
     },
     "execution_count": 46,
     "metadata": {},
     "output_type": "execute_result"
    }
   ],
   "source": [
    "#summarising\n",
    "summary = pd.DataFrame({'MODEL':['K_Nearest_Neighbors'],\n",
    "                       'Train_RMSE':2.541206,\n",
    "                       'Test_RMSE':3.112675,\n",
    "                        'Train_MAPE':29.225366,\n",
    "                        'Test_MAPE':37.531777,\n",
    "                        'R Sq':['NA']})\n",
    "summary"
   ]
  },
  {
   "cell_type": "markdown",
   "id": "315c4b61",
   "metadata": {},
   "source": [
    "## 6.Decision Tree"
   ]
  },
  {
   "cell_type": "code",
   "execution_count": 47,
   "id": "7de736d9",
   "metadata": {},
   "outputs": [
    {
     "data": {
      "image/png": "[encoded data removed]",
      "text/plain": [
       "<Figure size 640x480 with 1 Axes>"
      ]
     },
     "metadata": {},
     "output_type": "display_data"
    },
    {
     "data": {
      "text/html": [
       "<div>\n",
       "<style scoped>\n",
       "    .dataframe tbody tr th:only-of-type {\n",
       "        vertical-align: middle;\n",
       "    }\n",
       "\n",
       "    .dataframe tbody tr th {\n",
       "        vertical-align: top;\n",
       "    }\n",
       "\n",
       "    .dataframe thead th {\n",
       "        text-align: right;\n",
       "    }\n",
       "</style>\n",
       "<table border=\"1\" class=\"dataframe\">\n",
       "  <thead>\n",
       "    <tr style=\"text-align: right;\">\n",
       "      <th></th>\n",
       "      <th>depth</th>\n",
       "      <th>RMSE Train</th>\n",
       "      <th>RMSE Test</th>\n",
       "      <th>MAPE train</th>\n",
       "      <th>MAPE test</th>\n",
       "    </tr>\n",
       "  </thead>\n",
       "  <tbody>\n",
       "    <tr>\n",
       "      <th>0</th>\n",
       "      <td>1</td>\n",
       "      <td>3.944321</td>\n",
       "      <td>4.146720</td>\n",
       "      <td>63.754260</td>\n",
       "      <td>67.605168</td>\n",
       "    </tr>\n",
       "    <tr>\n",
       "      <th>1</th>\n",
       "      <td>2</td>\n",
       "      <td>3.603153</td>\n",
       "      <td>3.925978</td>\n",
       "      <td>56.855993</td>\n",
       "      <td>64.093657</td>\n",
       "    </tr>\n",
       "    <tr>\n",
       "      <th>2</th>\n",
       "      <td>3</td>\n",
       "      <td>3.236838</td>\n",
       "      <td>3.536677</td>\n",
       "      <td>47.604224</td>\n",
       "      <td>59.406248</td>\n",
       "    </tr>\n",
       "    <tr>\n",
       "      <th>3</th>\n",
       "      <td>4</td>\n",
       "      <td>2.922607</td>\n",
       "      <td>3.288310</td>\n",
       "      <td>41.879297</td>\n",
       "      <td>54.598183</td>\n",
       "    </tr>\n",
       "    <tr>\n",
       "      <th>4</th>\n",
       "      <td>5</td>\n",
       "      <td>2.681198</td>\n",
       "      <td>3.246656</td>\n",
       "      <td>37.083990</td>\n",
       "      <td>49.551696</td>\n",
       "    </tr>\n",
       "    <tr>\n",
       "      <th>5</th>\n",
       "      <td>6</td>\n",
       "      <td>2.421331</td>\n",
       "      <td>3.219677</td>\n",
       "      <td>33.475477</td>\n",
       "      <td>46.294529</td>\n",
       "    </tr>\n",
       "    <tr>\n",
       "      <th>6</th>\n",
       "      <td>7</td>\n",
       "      <td>2.122768</td>\n",
       "      <td>3.329915</td>\n",
       "      <td>29.276578</td>\n",
       "      <td>44.260478</td>\n",
       "    </tr>\n",
       "    <tr>\n",
       "      <th>7</th>\n",
       "      <td>8</td>\n",
       "      <td>1.824238</td>\n",
       "      <td>3.296271</td>\n",
       "      <td>24.866844</td>\n",
       "      <td>41.889675</td>\n",
       "    </tr>\n",
       "    <tr>\n",
       "      <th>8</th>\n",
       "      <td>9</td>\n",
       "      <td>1.593683</td>\n",
       "      <td>3.527235</td>\n",
       "      <td>21.228750</td>\n",
       "      <td>43.917552</td>\n",
       "    </tr>\n",
       "    <tr>\n",
       "      <th>9</th>\n",
       "      <td>10</td>\n",
       "      <td>1.398860</td>\n",
       "      <td>3.531478</td>\n",
       "      <td>17.797967</td>\n",
       "      <td>42.228055</td>\n",
       "    </tr>\n",
       "    <tr>\n",
       "      <th>10</th>\n",
       "      <td>11</td>\n",
       "      <td>1.214230</td>\n",
       "      <td>3.775374</td>\n",
       "      <td>14.895184</td>\n",
       "      <td>43.679559</td>\n",
       "    </tr>\n",
       "    <tr>\n",
       "      <th>11</th>\n",
       "      <td>12</td>\n",
       "      <td>1.033574</td>\n",
       "      <td>3.631008</td>\n",
       "      <td>12.166152</td>\n",
       "      <td>42.382596</td>\n",
       "    </tr>\n",
       "    <tr>\n",
       "      <th>12</th>\n",
       "      <td>13</td>\n",
       "      <td>0.851805</td>\n",
       "      <td>3.824712</td>\n",
       "      <td>9.705324</td>\n",
       "      <td>44.535450</td>\n",
       "    </tr>\n",
       "    <tr>\n",
       "      <th>13</th>\n",
       "      <td>14</td>\n",
       "      <td>0.691182</td>\n",
       "      <td>3.861709</td>\n",
       "      <td>7.517198</td>\n",
       "      <td>43.944905</td>\n",
       "    </tr>\n",
       "    <tr>\n",
       "      <th>14</th>\n",
       "      <td>15</td>\n",
       "      <td>0.557496</td>\n",
       "      <td>3.979137</td>\n",
       "      <td>5.696712</td>\n",
       "      <td>45.896839</td>\n",
       "    </tr>\n",
       "    <tr>\n",
       "      <th>15</th>\n",
       "      <td>16</td>\n",
       "      <td>0.456519</td>\n",
       "      <td>3.960214</td>\n",
       "      <td>4.325280</td>\n",
       "      <td>45.085754</td>\n",
       "    </tr>\n",
       "    <tr>\n",
       "      <th>16</th>\n",
       "      <td>17</td>\n",
       "      <td>0.387207</td>\n",
       "      <td>3.914789</td>\n",
       "      <td>3.224408</td>\n",
       "      <td>44.401412</td>\n",
       "    </tr>\n",
       "    <tr>\n",
       "      <th>17</th>\n",
       "      <td>18</td>\n",
       "      <td>0.316082</td>\n",
       "      <td>3.891636</td>\n",
       "      <td>2.417843</td>\n",
       "      <td>43.822651</td>\n",
       "    </tr>\n",
       "    <tr>\n",
       "      <th>18</th>\n",
       "      <td>19</td>\n",
       "      <td>0.246338</td>\n",
       "      <td>4.111661</td>\n",
       "      <td>1.627981</td>\n",
       "      <td>46.265551</td>\n",
       "    </tr>\n",
       "  </tbody>\n",
       "</table>\n",
       "</div>"
      ],
      "text/plain": [
       "    depth  RMSE Train  RMSE Test  MAPE train  MAPE test\n",
       "0       1    3.944321   4.146720   63.754260  67.605168\n",
       "1       2    3.603153   3.925978   56.855993  64.093657\n",
       "2       3    3.236838   3.536677   47.604224  59.406248\n",
       "3       4    2.922607   3.288310   41.879297  54.598183\n",
       "4       5    2.681198   3.246656   37.083990  49.551696\n",
       "5       6    2.421331   3.219677   33.475477  46.294529\n",
       "6       7    2.122768   3.329915   29.276578  44.260478\n",
       "7       8    1.824238   3.296271   24.866844  41.889675\n",
       "8       9    1.593683   3.527235   21.228750  43.917552\n",
       "9      10    1.398860   3.531478   17.797967  42.228055\n",
       "10     11    1.214230   3.775374   14.895184  43.679559\n",
       "11     12    1.033574   3.631008   12.166152  42.382596\n",
       "12     13    0.851805   3.824712    9.705324  44.535450\n",
       "13     14    0.691182   3.861709    7.517198  43.944905\n",
       "14     15    0.557496   3.979137    5.696712  45.896839\n",
       "15     16    0.456519   3.960214    4.325280  45.085754\n",
       "16     17    0.387207   3.914789    3.224408  44.401412\n",
       "17     18    0.316082   3.891636    2.417843  43.822651\n",
       "18     19    0.246338   4.111661    1.627981  46.265551"
      ]
     },
     "execution_count": 47,
     "metadata": {},
     "output_type": "execute_result"
    }
   ],
   "source": [
    "#loop to find best Max_depth value at which train-test rmse is lowest.\n",
    "max_depth_values = []\n",
    "rmse_diff_values = []\n",
    "rmse_test_values = []\n",
    "rmse_train_values = []\n",
    "mape_train=[]\n",
    "mape_test=[]\n",
    "\n",
    "# Loop over different max_depth values\n",
    "for max_depth in range(1, 20):\n",
    "    # Create and fit the decision tree regressor\n",
    "    regressor = DecisionTreeRegressor(max_depth=max_depth, random_state=42)\n",
    "    regressor.fit(X_train, y_train)\n",
    "    \n",
    "    # Predict on train and test data\n",
    "    y_train_pred = regressor.predict(X_train)\n",
    "    y_test_pred = regressor.predict(X_test)\n",
    "    \n",
    "    # Calculate RMSE for train and test data\n",
    "    rmse_train = np.sqrt(mean_squared_error(y_train, y_train_pred))\n",
    "    rmse_test = np.sqrt(mean_squared_error(y_test, y_test_pred))\n",
    "    \n",
    "    # Calculate difference in RMSE\n",
    "    rmse_diff = rmse_test - rmse_train\n",
    "    \n",
    "    # calculating MAPE\n",
    "    mse = mean_squared_error(y_train, y_train_pred)\n",
    "    dt_rmse_train = sqrt(mse)\n",
    "    dt_mape_train=np.mean(abs(y_train - y_train_pred)/y_train)*100\n",
    "    mse2 = mean_squared_error(y_test, y_test)\n",
    "    dt_rmse_test = sqrt(mse2)\n",
    "    dt_mape_test=np.mean(abs(y_test - y_test_pred)/y_test)*100\n",
    "    # Append values to the lists\n",
    "    max_depth_values.append(max_depth)\n",
    "    rmse_train_values.append(rmse_train)\n",
    "    rmse_test_values.append(rmse_test)\n",
    "    rmse_diff_values.append(rmse_diff)\n",
    "    mape_train.append(dt_mape_train)\n",
    "    mape_test.append(dt_mape_test)\n",
    "    \n",
    "# Plot the graph\n",
    "plt.plot(max_depth_values, rmse_diff_values, marker='o',label='RMSE Difference')\n",
    "plt.plot(max_depth_values, rmse_train_values, marker='o',label='Train RMSE')\n",
    "plt.plot(max_depth_values, rmse_test_values, marker='o',label='Test RMSE')\n",
    "plt.xlabel('Max Depth')\n",
    "plt.ylabel('Difference in RMSE')\n",
    "plt.title('Difference in RMSE vs. Max Depth')\n",
    "plt.legend()\n",
    "plt.grid(True)\n",
    "plt.show()\n",
    "dt_res=pd.DataFrame({'depth':max_depth_values,'RMSE Train':rmse_train_values,'RMSE Test':rmse_test_values,'MAPE train':mape_train,'MAPE test':mape_test})\n",
    "dt_res\n"
   ]
  },
  {
   "cell_type": "code",
   "execution_count": 48,
   "id": "11eea65e",
   "metadata": {},
   "outputs": [],
   "source": [
    "# taking max depth for balance of evaluation matrix and less gap in train and test performance will be 6\n",
    "dt_RMSE_train=2.421331\n",
    "dt_RMSE_test=3.219677\n",
    "dt_MAPE_train=33.475477\n",
    "dt_MAPE_test=46.294529"
   ]
  },
  {
   "cell_type": "code",
   "execution_count": 49,
   "id": "7fe98553",
   "metadata": {},
   "outputs": [
    {
     "data": {
      "text/html": [
       "<div>\n",
       "<style scoped>\n",
       "    .dataframe tbody tr th:only-of-type {\n",
       "        vertical-align: middle;\n",
       "    }\n",
       "\n",
       "    .dataframe tbody tr th {\n",
       "        vertical-align: top;\n",
       "    }\n",
       "\n",
       "    .dataframe thead th {\n",
       "        text-align: right;\n",
       "    }\n",
       "</style>\n",
       "<table border=\"1\" class=\"dataframe\">\n",
       "  <thead>\n",
       "    <tr style=\"text-align: right;\">\n",
       "      <th></th>\n",
       "      <th>features</th>\n",
       "      <th>importance</th>\n",
       "    </tr>\n",
       "  </thead>\n",
       "  <tbody>\n",
       "    <tr>\n",
       "      <th>0</th>\n",
       "      <td>Kilometers_Driven</td>\n",
       "      <td>0.077571</td>\n",
       "    </tr>\n",
       "    <tr>\n",
       "      <th>1</th>\n",
       "      <td>Mileage</td>\n",
       "      <td>0.032557</td>\n",
       "    </tr>\n",
       "    <tr>\n",
       "      <th>2</th>\n",
       "      <td>Engine</td>\n",
       "      <td>0.636684</td>\n",
       "    </tr>\n",
       "    <tr>\n",
       "      <th>3</th>\n",
       "      <td>Power</td>\n",
       "      <td>0.171938</td>\n",
       "    </tr>\n",
       "    <tr>\n",
       "      <th>4</th>\n",
       "      <td>Seats</td>\n",
       "      <td>0.000000</td>\n",
       "    </tr>\n",
       "    <tr>\n",
       "      <th>5</th>\n",
       "      <td>Location_Ahmedabad</td>\n",
       "      <td>0.000661</td>\n",
       "    </tr>\n",
       "    <tr>\n",
       "      <th>6</th>\n",
       "      <td>Location_Bangalore</td>\n",
       "      <td>0.000000</td>\n",
       "    </tr>\n",
       "    <tr>\n",
       "      <th>7</th>\n",
       "      <td>Location_Chennai</td>\n",
       "      <td>0.000000</td>\n",
       "    </tr>\n",
       "    <tr>\n",
       "      <th>8</th>\n",
       "      <td>Location_Coimbatore</td>\n",
       "      <td>0.006069</td>\n",
       "    </tr>\n",
       "    <tr>\n",
       "      <th>9</th>\n",
       "      <td>Location_Delhi</td>\n",
       "      <td>0.000000</td>\n",
       "    </tr>\n",
       "    <tr>\n",
       "      <th>10</th>\n",
       "      <td>Location_Hyderabad</td>\n",
       "      <td>0.000000</td>\n",
       "    </tr>\n",
       "    <tr>\n",
       "      <th>11</th>\n",
       "      <td>Location_Jaipur</td>\n",
       "      <td>0.000000</td>\n",
       "    </tr>\n",
       "    <tr>\n",
       "      <th>12</th>\n",
       "      <td>Location_Kochi</td>\n",
       "      <td>0.000000</td>\n",
       "    </tr>\n",
       "    <tr>\n",
       "      <th>13</th>\n",
       "      <td>Location_Kolkata</td>\n",
       "      <td>0.009818</td>\n",
       "    </tr>\n",
       "    <tr>\n",
       "      <th>14</th>\n",
       "      <td>Location_Mumbai</td>\n",
       "      <td>0.001421</td>\n",
       "    </tr>\n",
       "    <tr>\n",
       "      <th>15</th>\n",
       "      <td>Location_Pune</td>\n",
       "      <td>0.001299</td>\n",
       "    </tr>\n",
       "    <tr>\n",
       "      <th>16</th>\n",
       "      <td>Fuel_Type_CNG</td>\n",
       "      <td>0.000000</td>\n",
       "    </tr>\n",
       "    <tr>\n",
       "      <th>17</th>\n",
       "      <td>Fuel_Type_Diesel</td>\n",
       "      <td>0.000000</td>\n",
       "    </tr>\n",
       "    <tr>\n",
       "      <th>18</th>\n",
       "      <td>Fuel_Type_LPG</td>\n",
       "      <td>0.000000</td>\n",
       "    </tr>\n",
       "    <tr>\n",
       "      <th>19</th>\n",
       "      <td>Fuel_Type_Petrol</td>\n",
       "      <td>0.028184</td>\n",
       "    </tr>\n",
       "    <tr>\n",
       "      <th>20</th>\n",
       "      <td>Transmission_Automatic</td>\n",
       "      <td>0.000000</td>\n",
       "    </tr>\n",
       "    <tr>\n",
       "      <th>21</th>\n",
       "      <td>Transmission_Manual</td>\n",
       "      <td>0.029737</td>\n",
       "    </tr>\n",
       "    <tr>\n",
       "      <th>22</th>\n",
       "      <td>Owner_Type_First</td>\n",
       "      <td>0.001683</td>\n",
       "    </tr>\n",
       "    <tr>\n",
       "      <th>23</th>\n",
       "      <td>Owner_Type_Fourth &amp; Above</td>\n",
       "      <td>0.000000</td>\n",
       "    </tr>\n",
       "    <tr>\n",
       "      <th>24</th>\n",
       "      <td>Owner_Type_Second</td>\n",
       "      <td>0.002378</td>\n",
       "    </tr>\n",
       "    <tr>\n",
       "      <th>25</th>\n",
       "      <td>Owner_Type_Third</td>\n",
       "      <td>0.000000</td>\n",
       "    </tr>\n",
       "  </tbody>\n",
       "</table>\n",
       "</div>"
      ],
      "text/plain": [
       "                     features  importance\n",
       "0           Kilometers_Driven    0.077571\n",
       "1                     Mileage    0.032557\n",
       "2                      Engine    0.636684\n",
       "3                       Power    0.171938\n",
       "4                       Seats    0.000000\n",
       "5          Location_Ahmedabad    0.000661\n",
       "6          Location_Bangalore    0.000000\n",
       "7            Location_Chennai    0.000000\n",
       "8         Location_Coimbatore    0.006069\n",
       "9              Location_Delhi    0.000000\n",
       "10         Location_Hyderabad    0.000000\n",
       "11            Location_Jaipur    0.000000\n",
       "12             Location_Kochi    0.000000\n",
       "13           Location_Kolkata    0.009818\n",
       "14            Location_Mumbai    0.001421\n",
       "15              Location_Pune    0.001299\n",
       "16              Fuel_Type_CNG    0.000000\n",
       "17           Fuel_Type_Diesel    0.000000\n",
       "18              Fuel_Type_LPG    0.000000\n",
       "19           Fuel_Type_Petrol    0.028184\n",
       "20     Transmission_Automatic    0.000000\n",
       "21        Transmission_Manual    0.029737\n",
       "22           Owner_Type_First    0.001683\n",
       "23  Owner_Type_Fourth & Above    0.000000\n",
       "24          Owner_Type_Second    0.002378\n",
       "25           Owner_Type_Third    0.000000"
      ]
     },
     "execution_count": 49,
     "metadata": {},
     "output_type": "execute_result"
    }
   ],
   "source": [
    "dtr = DecisionTreeRegressor(max_depth=6,random_state=0)\n",
    "model = dtr.fit(X_train,y_train)\n",
    "#feature importance\n",
    "pd.DataFrame({'features':model.feature_names_in_, 'importance':model.feature_importances_})"
   ]
  },
  {
   "cell_type": "code",
   "execution_count": 50,
   "id": "c144f12a",
   "metadata": {},
   "outputs": [
    {
     "data": {
      "text/html": [
       "<div>\n",
       "<style scoped>\n",
       "    .dataframe tbody tr th:only-of-type {\n",
       "        vertical-align: middle;\n",
       "    }\n",
       "\n",
       "    .dataframe tbody tr th {\n",
       "        vertical-align: top;\n",
       "    }\n",
       "\n",
       "    .dataframe thead th {\n",
       "        text-align: right;\n",
       "    }\n",
       "</style>\n",
       "<table border=\"1\" class=\"dataframe\">\n",
       "  <thead>\n",
       "    <tr style=\"text-align: right;\">\n",
       "      <th></th>\n",
       "      <th>MODEL</th>\n",
       "      <th>Train_RMSE</th>\n",
       "      <th>Test_RMSE</th>\n",
       "      <th>Train_MAPE</th>\n",
       "      <th>Test_MAPE</th>\n",
       "      <th>R Sq</th>\n",
       "    </tr>\n",
       "  </thead>\n",
       "  <tbody>\n",
       "    <tr>\n",
       "      <th>0</th>\n",
       "      <td>K_Nearest_Neighbors</td>\n",
       "      <td>2.967518</td>\n",
       "      <td>3.242319</td>\n",
       "      <td>35.601149</td>\n",
       "      <td>39.600560</td>\n",
       "      <td>NA</td>\n",
       "    </tr>\n",
       "    <tr>\n",
       "      <th>1</th>\n",
       "      <td>Decision_Tree</td>\n",
       "      <td>2.421331</td>\n",
       "      <td>3.219677</td>\n",
       "      <td>33.475477</td>\n",
       "      <td>46.294529</td>\n",
       "      <td>NA</td>\n",
       "    </tr>\n",
       "  </tbody>\n",
       "</table>\n",
       "</div>"
      ],
      "text/plain": [
       "                 MODEL  Train_RMSE  Test_RMSE  Train_MAPE  Test_MAPE R Sq\n",
       "0  K_Nearest_Neighbors    2.967518   3.242319   35.601149  39.600560   NA\n",
       "1        Decision_Tree    2.421331   3.219677   33.475477  46.294529   NA"
      ]
     },
     "execution_count": 50,
     "metadata": {},
     "output_type": "execute_result"
    }
   ],
   "source": [
    "#summarising!\n",
    "summary = pd.DataFrame({'MODEL':['K_Nearest_Neighbors','Decision_Tree'],\n",
    "                       'Train_RMSE':[knn_rmse_train,dt_RMSE_train],\n",
    "                       'Test_RMSE':[knn_rmse_test,dt_RMSE_test],\n",
    "                        'Train_MAPE':[knn_mape_train,dt_MAPE_train],\n",
    "                        'Test_MAPE':[knn_mape_test,dt_MAPE_test],\n",
    "                        'R Sq':['NA','NA']})\n",
    "summary"
   ]
  },
  {
   "cell_type": "markdown",
   "id": "f4817c88",
   "metadata": {},
   "source": [
    "# 7.Linear Regression"
   ]
  },
  {
   "cell_type": "code",
   "execution_count": 51,
   "id": "cb86bdab",
   "metadata": {},
   "outputs": [
    {
     "data": {
      "text/plain": [
       "0.7145970319551754"
      ]
     },
     "execution_count": 51,
     "metadata": {},
     "output_type": "execute_result"
    }
   ],
   "source": [
    "#fitting the data\n",
    "lm = LinearRegression()\n",
    "lr = lm.fit(X_train,y_train)\n",
    "R2=lr.score(X_train,y_train)\n",
    "R2"
   ]
  },
  {
   "cell_type": "code",
   "execution_count": 52,
   "id": "1f8936a2",
   "metadata": {},
   "outputs": [
    {
     "data": {
      "text/plain": [
       "(4.461666229677469,\n",
       " array([-8.87220802e+00, -4.07652158e-01, -5.63093959e+00,  2.56312676e+01,\n",
       "        -1.46549439e-14, -3.19285125e-01,  8.57694156e-01, -5.44588018e-03,\n",
       "         1.43387500e+00, -2.26007416e-01,  4.38571548e-01,  6.55514232e-02,\n",
       "         6.63273739e-01, -2.01320875e+00, -8.26034476e-01, -6.89842216e-02,\n",
       "         2.36806656e-01,  1.73415589e+00, -6.03585742e-01, -1.36737680e+00,\n",
       "         1.48150678e+00, -1.48150678e+00,  8.85147075e-01,  1.38903006e-02,\n",
       "        -2.83585627e-02, -8.70678812e-01]))"
      ]
     },
     "execution_count": 52,
     "metadata": {},
     "output_type": "execute_result"
    }
   ],
   "source": [
    "#coefficients and intercept\n",
    "lr.intercept_, lr.coef_"
   ]
  },
  {
   "cell_type": "code",
   "execution_count": 53,
   "id": "cef39d28",
   "metadata": {},
   "outputs": [],
   "source": [
    "#predicting\n",
    "yhat_train = lr.predict(X_train)\n",
    "yhat_test = lr.predict(X_test)"
   ]
  },
  {
   "cell_type": "code",
   "execution_count": 56,
   "id": "7e41cb66",
   "metadata": {},
   "outputs": [
    {
     "data": {
      "text/plain": [
       "(2.9777012975139465, 3.2178707146488867)"
      ]
     },
     "execution_count": 56,
     "metadata": {},
     "output_type": "execute_result"
    }
   ],
   "source": [
    "#RMSE of train and test\n",
    "lr_RMSE_train = np.sqrt(sum((y_train-yhat_train)**2)/y_train.shape[0])\n",
    "lr_RMSE_test = np.sqrt(sum((y_test-yhat_test)**2)/y_test.shape[0])\n",
    "lr_RMSE_train, lr_RMSE_test"
   ]
  },
  {
   "cell_type": "code",
   "execution_count": 57,
   "id": "400bf037",
   "metadata": {},
   "outputs": [
    {
     "data": {
      "text/plain": [
       "(41.508139623713795, 45.46095707588019)"
      ]
     },
     "execution_count": 57,
     "metadata": {},
     "output_type": "execute_result"
    }
   ],
   "source": [
    "#MAPE of train and test\n",
    "lr_MAPE_train = np.mean((abs(y_train - yhat_train)/y_train)*100)\n",
    "lr_MAPE_test = np.mean((abs(y_test - yhat_test)/y_test)*100)\n",
    "lr_MAPE_train,lr_MAPE_test"
   ]
  },
  {
   "cell_type": "code",
   "execution_count": 58,
   "id": "abbcc920",
   "metadata": {},
   "outputs": [
    {
     "data": {
      "text/html": [
       "<div>\n",
       "<style scoped>\n",
       "    .dataframe tbody tr th:only-of-type {\n",
       "        vertical-align: middle;\n",
       "    }\n",
       "\n",
       "    .dataframe tbody tr th {\n",
       "        vertical-align: top;\n",
       "    }\n",
       "\n",
       "    .dataframe thead th {\n",
       "        text-align: right;\n",
       "    }\n",
       "</style>\n",
       "<table border=\"1\" class=\"dataframe\">\n",
       "  <thead>\n",
       "    <tr style=\"text-align: right;\">\n",
       "      <th></th>\n",
       "      <th>MODEL</th>\n",
       "      <th>Train_RMSE</th>\n",
       "      <th>Test_RMSE</th>\n",
       "      <th>Train_MAPE</th>\n",
       "      <th>Test_MAPE</th>\n",
       "      <th>R Sq</th>\n",
       "    </tr>\n",
       "  </thead>\n",
       "  <tbody>\n",
       "    <tr>\n",
       "      <th>0</th>\n",
       "      <td>K_Nearest_Neighbors</td>\n",
       "      <td>2.967518</td>\n",
       "      <td>3.242319</td>\n",
       "      <td>35.601149</td>\n",
       "      <td>39.600560</td>\n",
       "      <td>NA</td>\n",
       "    </tr>\n",
       "    <tr>\n",
       "      <th>1</th>\n",
       "      <td>Decision_Tree</td>\n",
       "      <td>2.421331</td>\n",
       "      <td>3.219677</td>\n",
       "      <td>33.475477</td>\n",
       "      <td>46.294529</td>\n",
       "      <td>NA</td>\n",
       "    </tr>\n",
       "    <tr>\n",
       "      <th>2</th>\n",
       "      <td>Linear_Regression</td>\n",
       "      <td>2.977701</td>\n",
       "      <td>3.217871</td>\n",
       "      <td>41.508140</td>\n",
       "      <td>45.460957</td>\n",
       "      <td>0.714597</td>\n",
       "    </tr>\n",
       "  </tbody>\n",
       "</table>\n",
       "</div>"
      ],
      "text/plain": [
       "                 MODEL  Train_RMSE  Test_RMSE  Train_MAPE  Test_MAPE      R Sq\n",
       "0  K_Nearest_Neighbors    2.967518   3.242319   35.601149  39.600560        NA\n",
       "1        Decision_Tree    2.421331   3.219677   33.475477  46.294529        NA\n",
       "2    Linear_Regression    2.977701   3.217871   41.508140  45.460957  0.714597"
      ]
     },
     "execution_count": 58,
     "metadata": {},
     "output_type": "execute_result"
    }
   ],
   "source": [
    "#summarising\n",
    "summary = pd.DataFrame({'MODEL':['K_Nearest_Neighbors','Decision_Tree','Linear_Regression'],\n",
    "                       'Train_RMSE':[knn_rmse_train,dt_RMSE_train,lr_RMSE_train],\n",
    "                       'Test_RMSE':[knn_rmse_test,dt_RMSE_test,lr_RMSE_test],\n",
    "                        'Train_MAPE':[knn_mape_train,dt_MAPE_train,lr_MAPE_train],\n",
    "                        'Test_MAPE':[knn_mape_test,dt_MAPE_test,lr_MAPE_test],\n",
    "                        'R Sq':['NA','NA',R2]})\n",
    "summary"
   ]
  },
  {
   "cell_type": "code",
   "execution_count": 59,
   "id": "b5409fec",
   "metadata": {},
   "outputs": [
    {
     "name": "stdout",
     "output_type": "stream",
     "text": [
      "Location: 15.797243810282685%\n",
      "Kilometers_Driven: 0.7258374136491954%\n",
      "Fuel_Type: 10.026064022062814%\n",
      "Transmission: 45.63727348233185%\n",
      "Owner_Type: 2.6093585907497054e-14%\n",
      "Mileage: 0.568497149598649%\n",
      "Engine: 1.527151264161551%\n",
      "Power: 0.009696559954387335%\n",
      "Seats: 2.553059282090996%\n"
     ]
    }
   ],
   "source": [
    "# Calculate the absolute values of coefficients\n",
    "coefficients=lr.coef_\n",
    "absolute_coefficients = np.abs(coefficients)\n",
    "\n",
    "# Calculate the feature importance as the percentage of contribution\n",
    "feature_names = [ 'Location', 'Kilometers_Driven', 'Fuel_Type','Transmission', 'Owner_Type', 'Mileage', 'Engine', 'Power', 'Seats']\n",
    "feature_importance = (absolute_coefficients / np.sum(absolute_coefficients)) * 100\n",
    "\n",
    "# Print the feature importance\n",
    "for feature_name, importance in zip(feature_names, feature_importance):\n",
    "    print(f\"{feature_name}: {importance}%\")"
   ]
  },
  {
   "cell_type": "code",
   "execution_count": 60,
   "id": "1550565e",
   "metadata": {},
   "outputs": [
    {
     "data": {
      "text/plain": [
       "array([1.57972438e+01, 7.25837414e-01, 1.00260640e+01, 4.56372735e+01,\n",
       "       2.60935859e-14, 5.68497150e-01, 1.52715126e+00, 9.69655995e-03,\n",
       "       2.55305928e+00, 4.02413272e-01, 7.80890356e-01, 1.16716359e-01,\n",
       "       1.18097963e+00, 3.58458113e+00, 1.47078021e+00, 1.22828564e-01,\n",
       "       4.21641656e-01, 3.08771879e+00, 1.07470329e+00, 2.43465716e+00,\n",
       "       2.63786914e+00, 2.63786914e+00, 1.57603204e+00, 2.47321145e-02,\n",
       "       5.04933076e-02, 1.55027085e+00])"
      ]
     },
     "execution_count": 60,
     "metadata": {},
     "output_type": "execute_result"
    }
   ],
   "source": [
    "feature_importance"
   ]
  },
  {
   "cell_type": "markdown",
   "id": "3d5c94aa",
   "metadata": {},
   "source": [
    "## 8. Improvement Step: Linear model with transformation on target column"
   ]
  },
  {
   "cell_type": "code",
   "execution_count": 61,
   "id": "dddfe50b",
   "metadata": {},
   "outputs": [
    {
     "data": {
      "text/plain": [
       "0"
      ]
     },
     "execution_count": 61,
     "metadata": {},
     "output_type": "execute_result"
    }
   ],
   "source": [
    "y_train1=np.log(y_train)\n",
    "y_test1=np.log(y_test)\n",
    "y_train1.isna().sum()\n",
    "y_train.isna().sum()"
   ]
  },
  {
   "cell_type": "code",
   "execution_count": 62,
   "id": "85804fd5",
   "metadata": {},
   "outputs": [
    {
     "data": {
      "text/plain": [
       "0.7477565761923889"
      ]
     },
     "execution_count": 62,
     "metadata": {},
     "output_type": "execute_result"
    }
   ],
   "source": [
    "#fitting the data\n",
    "lm = LinearRegression()\n",
    "lr = lm.fit(X_train,y_train1)\n",
    "R2=lr.score(X_train,y_train1)\n",
    "R2"
   ]
  },
  {
   "cell_type": "code",
   "execution_count": 63,
   "id": "327c18b2",
   "metadata": {},
   "outputs": [],
   "source": [
    "#predicting\n",
    "yhat_train = lr.predict(X_train)\n",
    "yhat_test = lr.predict(X_test)"
   ]
  },
  {
   "cell_type": "code",
   "execution_count": 64,
   "id": "3461526a",
   "metadata": {},
   "outputs": [],
   "source": [
    "yhat_train = np.exp(yhat_train)\n",
    "yhat_test = np.exp(yhat_test)"
   ]
  },
  {
   "cell_type": "code",
   "execution_count": 65,
   "id": "a3b9bba8",
   "metadata": {},
   "outputs": [
    {
     "data": {
      "text/plain": [
       "(6.750186289110335, 8.640229565730642)"
      ]
     },
     "execution_count": 65,
     "metadata": {},
     "output_type": "execute_result"
    }
   ],
   "source": [
    "#RMSE of train and test\n",
    "lr_rmse_train = np.sqrt(mean_squared_error(y_train1, yhat_train))\n",
    "lr_rmse_test = np.sqrt(mean_squared_error(y_test1, yhat_test))\n",
    "lr_rmse_train, lr_rmse_test"
   ]
  },
  {
   "cell_type": "code",
   "execution_count": 66,
   "id": "94520d6a",
   "metadata": {},
   "outputs": [],
   "source": [
    "X=pd.concat([X_train,X_test],axis=0)\n",
    "X.shape\n",
    "# df.shape\n",
    "len(y)\n",
    "y_train1=np.log(y_train)\n",
    "y_test1=np.log(y_test)\n",
    "len(y_test1)\n",
    "y=pd.concat([y_train1,y_test1],axis=0)"
   ]
  },
  {
   "cell_type": "code",
   "execution_count": 67,
   "id": "4e0b1741",
   "metadata": {},
   "outputs": [],
   "source": [
    "feature_names = X_train.columns"
   ]
  },
  {
   "cell_type": "code",
   "execution_count": 68,
   "id": "331346fe",
   "metadata": {
    "scrolled": false
   },
   "outputs": [
    {
     "name": "stderr",
     "output_type": "stream",
     "text": [
      "[Parallel(n_jobs=1)]: Using backend SequentialBackend with 1 concurrent workers.\n",
      "[Parallel(n_jobs=1)]: Done   1 out of   1 | elapsed:    0.0s remaining:    0.0s\n",
      "[Parallel(n_jobs=1)]: Done  26 out of  26 | elapsed:    0.4s finished\n",
      "\n",
      "[2023-06-27 23:26:47] Features: 1/26 -- score: 0.4534977303334742[Parallel(n_jobs=1)]: Using backend SequentialBackend with 1 concurrent workers.\n",
      "[Parallel(n_jobs=1)]: Done   1 out of   1 | elapsed:    0.0s remaining:    0.0s\n",
      "[Parallel(n_jobs=1)]: Done  25 out of  25 | elapsed:    0.6s finished\n",
      "\n",
      "[2023-06-27 23:26:47] Features: 2/26 -- score: 0.5433488479686707[Parallel(n_jobs=1)]: Using backend SequentialBackend with 1 concurrent workers.\n",
      "[Parallel(n_jobs=1)]: Done   1 out of   1 | elapsed:    0.0s remaining:    0.0s\n",
      "[Parallel(n_jobs=1)]: Done  24 out of  24 | elapsed:    0.6s finished\n",
      "\n",
      "[2023-06-27 23:26:48] Features: 3/26 -- score: 0.6335849311251425[Parallel(n_jobs=1)]: Using backend SequentialBackend with 1 concurrent workers.\n",
      "[Parallel(n_jobs=1)]: Done   1 out of   1 | elapsed:    0.0s remaining:    0.0s\n",
      "[Parallel(n_jobs=1)]: Done  23 out of  23 | elapsed:    0.5s finished\n",
      "\n",
      "[2023-06-27 23:26:49] Features: 4/26 -- score: 0.6655575814424367[Parallel(n_jobs=1)]: Using backend SequentialBackend with 1 concurrent workers.\n",
      "[Parallel(n_jobs=1)]: Done   1 out of   1 | elapsed:    0.0s remaining:    0.0s\n",
      "[Parallel(n_jobs=1)]: Done  22 out of  22 | elapsed:    0.6s finished\n",
      "\n",
      "[2023-06-27 23:26:49] Features: 5/26 -- score: 0.688645272676632[Parallel(n_jobs=1)]: Using backend SequentialBackend with 1 concurrent workers.\n",
      "[Parallel(n_jobs=1)]: Done   1 out of   1 | elapsed:    0.0s remaining:    0.0s\n",
      "[Parallel(n_jobs=1)]: Done  21 out of  21 | elapsed:    0.5s finished\n",
      "\n",
      "[2023-06-27 23:26:50] Features: 6/26 -- score: 0.7091591271919336[Parallel(n_jobs=1)]: Using backend SequentialBackend with 1 concurrent workers.\n",
      "[Parallel(n_jobs=1)]: Done   1 out of   1 | elapsed:    0.0s remaining:    0.0s\n",
      "[Parallel(n_jobs=1)]: Done  20 out of  20 | elapsed:    0.5s finished\n",
      "\n",
      "[2023-06-27 23:26:50] Features: 7/26 -- score: 0.7189974872341895[Parallel(n_jobs=1)]: Using backend SequentialBackend with 1 concurrent workers.\n",
      "[Parallel(n_jobs=1)]: Done   1 out of   1 | elapsed:    0.0s remaining:    0.0s\n",
      "[Parallel(n_jobs=1)]: Done  19 out of  19 | elapsed:    0.5s finished\n",
      "\n",
      "[2023-06-27 23:26:51] Features: 8/26 -- score: 0.7248950329348022[Parallel(n_jobs=1)]: Using backend SequentialBackend with 1 concurrent workers.\n",
      "[Parallel(n_jobs=1)]: Done   1 out of   1 | elapsed:    0.0s remaining:    0.0s\n",
      "[Parallel(n_jobs=1)]: Done  18 out of  18 | elapsed:    0.5s finished\n",
      "\n",
      "[2023-06-27 23:26:52] Features: 9/26 -- score: 0.7286429490330881[Parallel(n_jobs=1)]: Using backend SequentialBackend with 1 concurrent workers.\n",
      "[Parallel(n_jobs=1)]: Done   1 out of   1 | elapsed:    0.0s remaining:    0.0s\n",
      "[Parallel(n_jobs=1)]: Done  17 out of  17 | elapsed:    0.5s finished\n",
      "\n",
      "[2023-06-27 23:26:52] Features: 10/26 -- score: 0.7314246713073054[Parallel(n_jobs=1)]: Using backend SequentialBackend with 1 concurrent workers.\n",
      "[Parallel(n_jobs=1)]: Done   1 out of   1 | elapsed:    0.0s remaining:    0.0s\n",
      "[Parallel(n_jobs=1)]: Done  16 out of  16 | elapsed:    0.4s finished\n",
      "\n",
      "[2023-06-27 23:26:53] Features: 11/26 -- score: 0.7340569945990776[Parallel(n_jobs=1)]: Using backend SequentialBackend with 1 concurrent workers.\n",
      "[Parallel(n_jobs=1)]: Done   1 out of   1 | elapsed:    0.0s remaining:    0.0s\n",
      "[Parallel(n_jobs=1)]: Done  15 out of  15 | elapsed:    0.4s finished\n",
      "\n",
      "[2023-06-27 23:26:53] Features: 12/26 -- score: 0.7359388327616759[Parallel(n_jobs=1)]: Using backend SequentialBackend with 1 concurrent workers.\n",
      "[Parallel(n_jobs=1)]: Done   1 out of   1 | elapsed:    0.0s remaining:    0.0s\n",
      "[Parallel(n_jobs=1)]: Done  14 out of  14 | elapsed:    0.4s finished\n",
      "\n",
      "[2023-06-27 23:26:54] Features: 13/26 -- score: 0.736816588040751[Parallel(n_jobs=1)]: Using backend SequentialBackend with 1 concurrent workers.\n",
      "[Parallel(n_jobs=1)]: Done   1 out of   1 | elapsed:    0.0s remaining:    0.0s\n",
      "[Parallel(n_jobs=1)]: Done  13 out of  13 | elapsed:    0.4s finished\n",
      "\n",
      "[2023-06-27 23:26:54] Features: 14/26 -- score: 0.737104946668637[Parallel(n_jobs=1)]: Using backend SequentialBackend with 1 concurrent workers.\n",
      "[Parallel(n_jobs=1)]: Done   1 out of   1 | elapsed:    0.0s remaining:    0.0s\n",
      "[Parallel(n_jobs=1)]: Done  12 out of  12 | elapsed:    0.4s finished\n",
      "\n",
      "[2023-06-27 23:26:55] Features: 15/26 -- score: 0.7371221218555598[Parallel(n_jobs=1)]: Using backend SequentialBackend with 1 concurrent workers.\n",
      "[Parallel(n_jobs=1)]: Done   1 out of   1 | elapsed:    0.0s remaining:    0.0s\n",
      "[Parallel(n_jobs=1)]: Done  11 out of  11 | elapsed:    0.4s finished\n",
      "\n",
      "[2023-06-27 23:26:55] Features: 16/26 -- score: 0.7371852534783322[Parallel(n_jobs=1)]: Using backend SequentialBackend with 1 concurrent workers.\n",
      "[Parallel(n_jobs=1)]: Done   1 out of   1 | elapsed:    0.0s remaining:    0.0s\n",
      "[Parallel(n_jobs=1)]: Done  10 out of  10 | elapsed:    0.3s finished\n",
      "\n",
      "[2023-06-27 23:26:56] Features: 17/26 -- score: 0.7371631926093334[Parallel(n_jobs=1)]: Using backend SequentialBackend with 1 concurrent workers.\n",
      "[Parallel(n_jobs=1)]: Done   1 out of   1 | elapsed:    0.0s remaining:    0.0s\n",
      "[Parallel(n_jobs=1)]: Done   9 out of   9 | elapsed:    0.3s finished\n",
      "\n",
      "[2023-06-27 23:26:56] Features: 18/26 -- score: 0.7371894134983277[Parallel(n_jobs=1)]: Using backend SequentialBackend with 1 concurrent workers.\n",
      "[Parallel(n_jobs=1)]: Done   1 out of   1 | elapsed:    0.0s remaining:    0.0s\n",
      "[Parallel(n_jobs=1)]: Done   8 out of   8 | elapsed:    0.3s finished\n",
      "\n",
      "[2023-06-27 23:26:56] Features: 19/26 -- score: 0.7370736909196237[Parallel(n_jobs=1)]: Using backend SequentialBackend with 1 concurrent workers.\n",
      "[Parallel(n_jobs=1)]: Done   1 out of   1 | elapsed:    0.0s remaining:    0.0s\n",
      "[Parallel(n_jobs=1)]: Done   7 out of   7 | elapsed:    0.2s finished\n",
      "\n",
      "[2023-06-27 23:26:57] Features: 20/26 -- score: 0.7370991305778698[Parallel(n_jobs=1)]: Using backend SequentialBackend with 1 concurrent workers.\n",
      "[Parallel(n_jobs=1)]: Done   1 out of   1 | elapsed:    0.0s remaining:    0.0s\n",
      "[Parallel(n_jobs=1)]: Done   6 out of   6 | elapsed:    0.2s finished\n",
      "\n",
      "[2023-06-27 23:26:57] Features: 21/26 -- score: 0.737040572811082[Parallel(n_jobs=1)]: Using backend SequentialBackend with 1 concurrent workers.\n",
      "[Parallel(n_jobs=1)]: Done   1 out of   1 | elapsed:    0.0s remaining:    0.0s\n",
      "[Parallel(n_jobs=1)]: Done   5 out of   5 | elapsed:    0.2s finished\n",
      "\n",
      "[2023-06-27 23:26:57] Features: 22/26 -- score: 0.7370460690527338[Parallel(n_jobs=1)]: Using backend SequentialBackend with 1 concurrent workers.\n",
      "[Parallel(n_jobs=1)]: Done   1 out of   1 | elapsed:    0.0s remaining:    0.0s\n",
      "[Parallel(n_jobs=1)]: Done   4 out of   4 | elapsed:    0.1s finished\n",
      "\n",
      "[2023-06-27 23:26:58] Features: 23/26 -- score: 0.7368532435463859[Parallel(n_jobs=1)]: Using backend SequentialBackend with 1 concurrent workers.\n",
      "[Parallel(n_jobs=1)]: Done   1 out of   1 | elapsed:    0.0s remaining:    0.0s\n",
      "[Parallel(n_jobs=1)]: Done   3 out of   3 | elapsed:    0.1s finished\n",
      "\n",
      "[2023-06-27 23:26:58] Features: 24/26 -- score: 0.7367202810268747[Parallel(n_jobs=1)]: Using backend SequentialBackend with 1 concurrent workers.\n"
     ]
    },
    {
     "name": "stdout",
     "output_type": "stream",
     "text": [
      "Selected Features: ['Kilometers_Driven', 'Mileage', 'Power', 'Location_Ahmedabad', 'Location_Bangalore', 'Location_Chennai', 'Location_Coimbatore', 'Location_Hyderabad', 'Location_Kochi', 'Location_Kolkata', 'Location_Mumbai', 'Fuel_Type_CNG', 'Fuel_Type_Diesel', 'Transmission_Automatic', 'Transmission_Manual', 'Owner_Type_First', 'Owner_Type_Fourth & Above', 'Owner_Type_Third']\n",
      "Model Score: 0.7415303893986342\n"
     ]
    },
    {
     "name": "stderr",
     "output_type": "stream",
     "text": [
      "[Parallel(n_jobs=1)]: Done   1 out of   1 | elapsed:    0.0s remaining:    0.0s\n",
      "[Parallel(n_jobs=1)]: Done   2 out of   2 | elapsed:    0.0s finished\n",
      "\n",
      "[2023-06-27 23:26:58] Features: 25/26 -- score: 0.7366809328722481[Parallel(n_jobs=1)]: Using backend SequentialBackend with 1 concurrent workers.\n",
      "[Parallel(n_jobs=1)]: Done   1 out of   1 | elapsed:    0.0s remaining:    0.0s\n",
      "[Parallel(n_jobs=1)]: Done   1 out of   1 | elapsed:    0.0s finished\n",
      "\n",
      "[2023-06-27 23:26:58] Features: 26/26 -- score: 0.7371688106120012"
     ]
    }
   ],
   "source": [
    "# Create the linear regression model\n",
    "from mlxtend.feature_selection import SequentialFeatureSelector\n",
    "model = LinearRegression()\n",
    "\n",
    "# Create the SequentialFeatureSelector object\n",
    "sfs = SequentialFeatureSelector(estimator=model, k_features='best', forward=True, verbose=2, scoring='r2')\n",
    "\n",
    "# Perform feature selection\n",
    "sfs.fit(X, y)\n",
    "\n",
    "# Get the selected feature indices\n",
    "selected_feature_indices = sfs.k_feature_idx_\n",
    "\n",
    "# Get the selected feature names\n",
    "selected_feature_names = [feature_names[i] for i in selected_feature_indices]\n",
    "\n",
    "# Transform the training and testing data to keep only the selected features\n",
    "X_train_selected = sfs.transform(X)\n",
    "X_test_selected = sfs.transform(X)\n",
    "\n",
    "# Train a linear regression model on the selected features\n",
    "model.fit(X_train_selected, y)\n",
    "\n",
    "# Evaluate the model on the testing data\n",
    "score = model.score(X_test_selected, y)\n",
    "\n",
    "# Print the selected features and the model score\n",
    "print(\"Selected Features:\", selected_feature_names)\n",
    "print(\"Model Score:\", score)"
   ]
  },
  {
   "cell_type": "markdown",
   "id": "22d407b9",
   "metadata": {},
   "source": [
    "**INFERENCE:**\n",
    "1. So, features like Location, Kilometers_Driven, Fuel_Type, Transmission, Owner_Type,Mileage,Power are important.\n",
    "2. Using Log-transform on target column improved performance, R2 score increased from 71% to 75% .\n",
    "3. Factors that could have been like 'engine' important actually proved to be insignificant, due to high correlation with power feature.\n"
   ]
  },
  {
   "cell_type": "code",
   "execution_count": 71,
   "id": "b47d54c5",
   "metadata": {},
   "outputs": [
    {
     "data": {
      "text/html": [
       "<div>\n",
       "<style scoped>\n",
       "    .dataframe tbody tr th:only-of-type {\n",
       "        vertical-align: middle;\n",
       "    }\n",
       "\n",
       "    .dataframe tbody tr th {\n",
       "        vertical-align: top;\n",
       "    }\n",
       "\n",
       "    .dataframe thead th {\n",
       "        text-align: right;\n",
       "    }\n",
       "</style>\n",
       "<table border=\"1\" class=\"dataframe\">\n",
       "  <thead>\n",
       "    <tr style=\"text-align: right;\">\n",
       "      <th></th>\n",
       "      <th>MODEL</th>\n",
       "      <th>Train_RMSE</th>\n",
       "      <th>Test_RMSE</th>\n",
       "      <th>Train_MAPE</th>\n",
       "      <th>Test_MAPE</th>\n",
       "      <th>R Sq</th>\n",
       "    </tr>\n",
       "  </thead>\n",
       "  <tbody>\n",
       "    <tr>\n",
       "      <th>0</th>\n",
       "      <td>K_Nearest_Neighbors</td>\n",
       "      <td>2.967518</td>\n",
       "      <td>3.242319</td>\n",
       "      <td>35.601149</td>\n",
       "      <td>39.600560</td>\n",
       "      <td>NA</td>\n",
       "    </tr>\n",
       "    <tr>\n",
       "      <th>1</th>\n",
       "      <td>Decision_Tree</td>\n",
       "      <td>2.421331</td>\n",
       "      <td>3.219677</td>\n",
       "      <td>33.475477</td>\n",
       "      <td>46.294529</td>\n",
       "      <td>NA</td>\n",
       "    </tr>\n",
       "    <tr>\n",
       "      <th>2</th>\n",
       "      <td>Linear_Regression</td>\n",
       "      <td>2.977701</td>\n",
       "      <td>3.217871</td>\n",
       "      <td>41.508140</td>\n",
       "      <td>45.460957</td>\n",
       "      <td>0.714597</td>\n",
       "    </tr>\n",
       "  </tbody>\n",
       "</table>\n",
       "</div>"
      ],
      "text/plain": [
       "                 MODEL  Train_RMSE  Test_RMSE  Train_MAPE  Test_MAPE      R Sq\n",
       "0  K_Nearest_Neighbors    2.967518   3.242319   35.601149  39.600560        NA\n",
       "1        Decision_Tree    2.421331   3.219677   33.475477  46.294529        NA\n",
       "2    Linear_Regression    2.977701   3.217871   41.508140  45.460957  0.714597"
      ]
     },
     "execution_count": 71,
     "metadata": {},
     "output_type": "execute_result"
    }
   ],
   "source": [
    "summary"
   ]
  },
  {
   "cell_type": "markdown",
   "id": "9ab4f8f8",
   "metadata": {},
   "source": [
    "# CONCLUSION:"
   ]
  },
  {
   "cell_type": "markdown",
   "id": "db5caee4",
   "metadata": {},
   "source": [
    "Based on the provided model evaluation results, we can draw the following conclusions for the given models:\n",
    "\n",
    "1. K-Nearest Neighbors:\n",
    "   - Train_RMSE:2.967518 \t\n",
    "   - Test_RMSE: 3.242319\n",
    "   - Train_MAPE: 35.601149\n",
    "   - Test_MAPE: 39.600560\t\n",
    "\n",
    "   The K-Nearest Neighbors model achieved relatively low RMSE values for both the training and testing datasets, indicating good predictive performance. The MAPE values are also moderate, suggesting that the model's predictions are generally close to the actual values. \n",
    "   \n",
    "2. Decision Tree:\n",
    "   - Train_RMSE: 2.421331\t\n",
    "   - Test_RMSE: 3.219677\n",
    "   - Train_MAPE: 33.475477\n",
    "   - Test_MAPE: 46.294529\n",
    "\t\t\t\t\n",
    "   The Decision Tree model produced higher RMSE values compared to the K-Nearest Neighbors model, indicating a larger prediction error. The MAPE values are also relatively high, suggesting that the model's predictions have larger percentage errors.\n",
    "\n",
    "3. Linear Regression:\n",
    "   - Train_RMSE: 2.977701\n",
    "   - Test_RMSE: 3.410473\t\n",
    "   - Train_MAPE: 41.508140\n",
    "   - Test_MAPE: 41.508140\n",
    "   - R-squared: 0.714597\n",
    "   \n",
    "   The Linear Regression model achieved moderate RMSE values for both the training and testing datasets. The MAPE values are also reasonable, indicating that the model's predictions are relatively close to the actual values. The R-squared value of 0.7145 suggests that approximately 71.45% of the variance in the target variable can be explained by the model, indicating a moderate level of fit.\n",
    "\n",
    "In conclusion, among the evaluated models, the **Linear Regression** model appears to have the best performance based on the lower RMSE and MAPE values. Linear model after log transformation on target gave better explaination of variation when R2 increased to **75%**."
   ]
  }
 ],
 "metadata": {
  "kernelspec": {
   "display_name": "Python 3 (ipykernel)",
   "language": "python",
   "name": "python3"
  },
  "language_info": {
   "codemirror_mode": {
    "name": "ipython",
    "version": 3
   },
   "file_extension": ".py",
   "mimetype": "text/x-python",
   "name": "python",
   "nbconvert_exporter": "python",
   "pygments_lexer": "ipython3",
   "version": "3.10.6"
  }
 },
 "nbformat": 4,
 "nbformat_minor": 5
}
